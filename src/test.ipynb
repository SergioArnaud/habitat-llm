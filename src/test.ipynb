{
 "cells": [
  {
   "cell_type": "markdown",
   "metadata": {},
   "source": [
    "## TODO\n",
    "- Implementar reset y wait skills\n",
    "- Saber si un articulated object esta dentro de algo o no\n",
    "- Implementar planning con lenguaje natural (hwchase17/langchain)\n",
    "- Poder inspeccionar escena antes de correrlo\n",
    "- leer lista articulated -> query lenguaje natural -> Language model diciendo nav, pick, place\n",
    "- Entendimiento fuzzy de palabras (inicialmente con gpt)\n",
    "- Add debug bounding box to img video\n",
    "- Affordance function con clip \n",
    "- Agregar manipulation skills/ entrenarlas\n",
    "- Interactividad con pygame\n",
    "- Poder hacerlo por imagenes tambien \n",
    "\n",
    "## TODO LATER\n",
    "- Implementar condicion de success en skill\n",
    "- Mejorar pick, nav, place\n",
    "\n",
    "## Ideas\n",
    "- Vacia refrigerador \n",
    "- Limpia mesa\n",
    "\n",
    "** Darle tools sobre el simulador** "
   ]
  },
  {
   "cell_type": "code",
   "execution_count": 1,
   "metadata": {},
   "outputs": [
    {
     "name": "stderr",
     "output_type": "stream",
     "text": [
      "/private/home/sergioarnaud/habitat-llm/src/setup_experiment.py:51: UserWarning: \n",
      "The version_base parameter is not specified.\n",
      "Please specify a compatability version level, or None.\n",
      "Will assume defaults for version 1.1\n",
      "  with initialize(config_path=\"conf\"):\n",
      "2022-12-18 22:34:30,262 Initializing dataset RearrangeDataset-v0\n"
     ]
    },
    {
     "name": "stdout",
     "output_type": "stream",
     "text": [
      "Using a generated random seed 31735059\n"
     ]
    },
    {
     "name": "stderr",
     "output_type": "stream",
     "text": [
      "2022-12-18 22:34:45,632 initializing sim RearrangeSim-v0\n",
      "2022-12-18 22:34:48,781 Initializing task RearrangeEmptyTask-v0\n",
      "Trade::AssimpImporter::material(): property $tex.uvtrafo is a float array of 20 bytes, saving as a typeless buffer\n",
      "Trade::AssimpImporter::material(): property $tex.uvtrafo is a float array of 20 bytes, saving as a typeless buffer\n",
      "Trade::AssimpImporter::material(): property $tex.uvtrafo is a float array of 20 bytes, saving as a typeless buffer\n",
      "Trade::AssimpImporter::material(): property $tex.uvtrafo is a float array of 20 bytes, saving as a typeless buffer\n",
      "Trade::AssimpImporter::material(): property $tex.uvtrafo is a float array of 20 bytes, saving as a typeless buffer\n",
      "Trade::AssimpImporter::material(): property $tex.uvtrafo is a float array of 20 bytes, saving as a typeless buffer\n",
      "Trade::AssimpImporter::material(): property $tex.uvtrafo is a float array of 20 bytes, saving as a typeless buffer\n",
      "Trade::AssimpImporter::material(): property $tex.uvtrafo is a float array of 20 bytes, saving as a typeless buffer\n",
      "Trade::AssimpImporter::material(): property $tex.uvtrafo is a float array of 20 bytes, saving as a typeless buffer\n",
      "Trade::AssimpImporter::material(): property $tex.uvtrafo is a float array of 20 bytes, saving as a typeless buffer\n",
      "Trade::AssimpImporter::material(): property $tex.uvtrafo is a float array of 20 bytes, saving as a typeless buffer\n",
      "Trade::AssimpImporter::material(): property $tex.uvtrafo is a float array of 20 bytes, saving as a typeless buffer\n",
      "Trade::AssimpImporter::material(): property $tex.uvtrafo is a float array of 20 bytes, saving as a typeless buffer\n"
     ]
    }
   ],
   "source": [
    "from setup_experiment import setup\n",
    "from pprint import pprint\n",
    "import habitat\n",
    "from sensors import register_sensors\n",
    "import torch\n",
    "\n",
    "\n",
    "conf = setup()\n",
    "device = torch.device(\"cuda\", conf.habitat_baselines.torch_gpu_id)\n",
    "ppo_cfg = conf.habitat_baselines.rl.ppo\n",
    "register_sensors(conf)\n",
    "\n",
    "env = habitat.Env(config=conf)\n",
    "\n",
    "# Initial reset\n",
    "obs = env.reset()"
   ]
  },
  {
   "cell_type": "code",
   "execution_count": 12,
   "metadata": {},
   "outputs": [
    {
     "name": "stderr",
     "output_type": "stream",
     "text": [
      "[INFO,habitat_baselines] 2022-12-18 22:38:57,120 hierarchichal_policy.py:236 Initializing skill: pick\n",
      "[DEBUG,habitat_baselines] 2022-12-18 22:38:57,158 nn_skill.py:172 Loaded obs space Dict(is_holding:Box(0.0, 1.0, (1,), float32), joint:Box(-3.4028235e+38, 3.4028235e+38, (7,), float32), obj_start_sensor:Box(-3.4028235e+38, 3.4028235e+38, (3,), float32), relative_resting_position:Box(-3.4028235e+38, 3.4028235e+38, (3,), float32), robot_head_depth:Box(0.0, 1.0, (256, 256, 1), float32)) for skill PickSkillPolicy\n",
      "[DEBUG,habitat_baselines] 2022-12-18 22:38:57,158 nn_skill.py:176 Expected obs space: ['robot_head_depth', 'obj_start_sensor', 'joint', 'is_holding', 'relative_resting_position']\n",
      "[DEBUG,habitat_baselines] 2022-12-18 22:38:57,159 nn_skill.py:198 Loaded action space ActionSpace(arm_action:Dict(arm_action:Box(-1.0, 1.0, (7,), float32), grip_action:Box(-1.0, 1.0, (1,), float32)), base_velocity:Dict(base_vel:Box(-20.0, 20.0, (2,), float32))) for skill PickSkillPolicy\n",
      "[DEBUG,habitat_baselines] 2022-12-18 22:38:57,160 nn_skill.py:201 ================================================================================\n",
      "[DEBUG,habitat_baselines] 2022-12-18 22:38:57,407 skill.py:37 grip_action_index 7\n",
      "[DEBUG,habitat_baselines] 2022-12-18 22:38:57,408 skill.py:62 Skill PickSkillPolicy @ step tensor([0.]): Skill PickSkillPolicy: action offset 0, action length 10\n",
      "[INFO,habitat_baselines] 2022-12-18 22:38:57,409 hierarchichal_policy.py:236 Initializing skill: place\n",
      "[DEBUG,habitat_baselines] 2022-12-18 22:38:57,435 nn_skill.py:172 Loaded obs space Dict(is_holding:Box(0.0, 1.0, (1,), float32), joint:Box(-3.4028235e+38, 3.4028235e+38, (7,), float32), obj_goal_sensor:Box(-3.4028235e+38, 3.4028235e+38, (3,), float32), relative_resting_position:Box(-3.4028235e+38, 3.4028235e+38, (3,), float32), robot_head_depth:Box(0.0, 1.0, (256, 256, 1), float32)) for skill PlaceSkillPolicy\n",
      "[DEBUG,habitat_baselines] 2022-12-18 22:38:57,435 nn_skill.py:176 Expected obs space: ['robot_head_depth', 'obj_goal_sensor', 'joint', 'is_holding', 'relative_resting_position']\n",
      "[DEBUG,habitat_baselines] 2022-12-18 22:38:57,436 nn_skill.py:198 Loaded action space ActionSpace(arm_action:Dict(arm_action:Box(-1.0, 1.0, (7,), float32), grip_action:Box(-1.0, 1.0, (1,), float32)), base_velocity:Dict(base_vel:Box(-20.0, 20.0, (2,), float32))) for skill PlaceSkillPolicy\n",
      "[DEBUG,habitat_baselines] 2022-12-18 22:38:57,436 nn_skill.py:201 ================================================================================\n",
      "[DEBUG,habitat_baselines] 2022-12-18 22:38:57,688 skill.py:37 grip_action_index 7\n",
      "[DEBUG,habitat_baselines] 2022-12-18 22:38:57,690 skill.py:62 Skill PlaceSkillPolicy @ step tensor([0.]): Skill PlaceSkillPolicy: action offset 0, action length 10\n",
      "[INFO,habitat_baselines] 2022-12-18 22:38:57,691 hierarchichal_policy.py:236 Initializing skill: nav\n",
      "[DEBUG,habitat_baselines] 2022-12-18 22:38:57,713 nn_skill.py:172 Loaded obs space Dict(goal_to_agent_gps_compass:Box(-3.4028235e+38, 3.4028235e+38, (2,), float32), joint:Box(-3.4028235e+38, 3.4028235e+38, (7,), float32), robot_head_depth:Box(0.0, 1.0, (256, 256, 1), float32)) for skill NavSkillPolicy\n",
      "[DEBUG,habitat_baselines] 2022-12-18 22:38:57,713 nn_skill.py:176 Expected obs space: ['robot_head_depth', 'goal_to_agent_gps_compass', 'joint']\n",
      "[DEBUG,habitat_baselines] 2022-12-18 22:38:57,714 nn_skill.py:198 Loaded action space ActionSpace(base_velocity:Dict(base_vel:Box(-20.0, 20.0, (2,), float32)), rearrange_stop:EmptySpace()) for skill NavSkillPolicy\n",
      "[DEBUG,habitat_baselines] 2022-12-18 22:38:57,714 nn_skill.py:201 ================================================================================\n",
      "[DEBUG,habitat_baselines] 2022-12-18 22:38:57,952 skill.py:37 grip_action_index 7\n",
      "[DEBUG,habitat_baselines] 2022-12-18 22:38:57,953 skill.py:62 Skill NavSkillPolicy @ step tensor([0.]): Skill NavSkillPolicy: action offset 8, action length 3\n",
      "[INFO,habitat_baselines] 2022-12-18 22:38:57,954 hierarchichal_policy.py:236 Initializing skill: nav_to_receptacle\n",
      "[DEBUG,habitat_baselines] 2022-12-18 22:38:57,985 nn_skill.py:172 Loaded obs space Dict(goal_to_agent_gps_compass:Box(-3.4028235e+38, 3.4028235e+38, (2,), float32), joint:Box(-3.4028235e+38, 3.4028235e+38, (7,), float32), robot_head_depth:Box(0.0, 1.0, (256, 256, 1), float32)) for skill NavSkillPolicy\n",
      "[DEBUG,habitat_baselines] 2022-12-18 22:38:57,986 nn_skill.py:176 Expected obs space: ['robot_head_depth', 'goal_to_agent_gps_compass', 'joint']\n",
      "[DEBUG,habitat_baselines] 2022-12-18 22:38:57,987 nn_skill.py:198 Loaded action space ActionSpace(base_velocity:Dict(base_vel:Box(-20.0, 20.0, (2,), float32)), rearrange_stop:EmptySpace()) for skill NavSkillPolicy\n",
      "[DEBUG,habitat_baselines] 2022-12-18 22:38:57,988 nn_skill.py:201 ================================================================================\n",
      "[DEBUG,habitat_baselines] 2022-12-18 22:38:58,228 skill.py:37 grip_action_index 7\n",
      "[DEBUG,habitat_baselines] 2022-12-18 22:38:58,229 skill.py:62 Skill NavSkillPolicy @ step tensor([0.]): Skill NavSkillPolicy: action offset 8, action length 3\n",
      "[INFO,habitat_baselines] 2022-12-18 22:38:58,230 hierarchichal_policy.py:236 Initializing skill: reset_arm\n",
      "[DEBUG,habitat_baselines] 2022-12-18 22:38:58,231 skill.py:37 grip_action_index 7\n"
     ]
    }
   ],
   "source": [
    "from language_agent import LanguageAgent\n",
    "\n",
    "mappings = {\n",
    "            'dynamic_goal_to_agent_gps_compass' : 'goal_to_agent_gps_compass',\n",
    "            'dynamic_obj_start_sensor' : 'obj_start_sensor',\n",
    "            'dynamic_obj_goal_sensor' : 'obj_goal_sensor',\n",
    "        }\n",
    "\n",
    "agent = LanguageAgent(env, conf, mappings, device)"
   ]
  },
  {
   "cell_type": "code",
   "execution_count": 14,
   "metadata": {},
   "outputs": [
    {
     "name": "stdout",
     "output_type": "stream",
     "text": [
      "{'Chair': [peach [015_peach_:0000]],\n",
      " 'Counter': [tuna fish can [007_tuna_fish_can_:0000],\n",
      "             strawberry [012_strawberry_:0000],\n",
      "             plum [018_plum_:0000],\n",
      "             master chef can [002_master_chef_can_:0000],\n",
      "             lemon [014_lemon_:0001],\n",
      "             bowl [024_bowl_:0002],\n",
      "             tomato soup can [005_tomato_soup_can_:0001],\n",
      "             potted meat can [010_potted_meat_can_:0001],\n",
      "             mug [025_mug_:0000]],\n",
      " 'Drawer': [pear [016_pear_:0000],\n",
      "            tomato soup can [005_tomato_soup_can_:0000],\n",
      "            gelatin box [009_gelatin_box_:0001],\n",
      "            bowl [024_bowl_:0001],\n",
      "            cracker box [003_cracker_box_:0000],\n",
      "            banana [011_banana_:0001],\n",
      "            apple [013_apple_:0001]],\n",
      " 'Fridge': [sponge [026_sponge_:0000], banana [011_banana_:0000]],\n",
      " 'Sink': [gelatin box [009_gelatin_box_:0000], bowl [024_bowl_:0000]],\n",
      " 'Sofa': [lemon [014_lemon_:0000],\n",
      "          tuna fish can [007_tuna_fish_can_:0001],\n",
      "          potted meat can [010_potted_meat_can_:0000],\n",
      "          bleach cleanser [021_bleach_cleanser_:0001]],\n",
      " 'Table': [sugar box [004_sugar_box_:0000],\n",
      "           bleach cleanser [021_bleach_cleanser_:0000],\n",
      "           strawberry [012_strawberry_:0001],\n",
      "           strawberry [012_strawberry_:0002]],\n",
      " 'Tv Stand': [sugar box [004_sugar_box_:0001], apple [013_apple_:0000]]}\n"
     ]
    }
   ],
   "source": [
    "pprint(agent.scene_parser.grouped_objects)"
   ]
  },
  {
   "cell_type": "code",
   "execution_count": 17,
   "metadata": {},
   "outputs": [
    {
     "name": "stdout",
     "output_type": "stream",
     "text": [
      "The target is set to sugar box in the Table\n"
     ]
    }
   ],
   "source": [
    "agent.set_target('004_sugar_box_:0000')"
   ]
  },
  {
   "cell_type": "code",
   "execution_count": 18,
   "metadata": {},
   "outputs": [
    {
     "name": "stderr",
     "output_type": "stream",
     "text": [
      "[DEBUG,habitat_baselines] 2022-12-18 22:40:03,498 high_level.py:42 Entering skill reset_arm\n",
      "[DEBUG,habitat_baselines] 2022-12-18 22:40:03,994 skill.py:62 Skill ResetArmSkill @ step tensor([27.], device='cuda:0'): Requested skill termination tensor([True], device='cuda:0')\n",
      "[DEBUG,habitat_baselines] 2022-12-18 22:40:03,996 high_level.py:42 Entering skill nav\n",
      "[DEBUG,habitat_baselines] 2022-12-18 22:40:04,643 skill.py:62 Skill NavSkillPolicy @ step tensor([28.], device='cuda:0'): Requested skill termination tensor([True], device='cuda:0')\n",
      "[DEBUG,habitat_baselines] 2022-12-18 22:40:04,644 high_level.py:42 Entering skill reset_arm\n",
      "[DEBUG,habitat_baselines] 2022-12-18 22:40:04,663 skill.py:62 Skill ResetArmSkill @ step tensor([1.], device='cuda:0'): Requested skill termination tensor([True], device='cuda:0')\n",
      "[DEBUG,habitat_baselines] 2022-12-18 22:40:04,664 high_level.py:42 Entering skill pick\n",
      "[DEBUG,habitat_baselines] 2022-12-18 22:40:06,127 skill.py:62 Skill PickSkillPolicy @ step tensor([64.], device='cuda:0'): Requested skill termination tensor([True], device='cuda:0')\n",
      "[DEBUG,habitat_baselines] 2022-12-18 22:40:06,128 high_level.py:42 Entering skill reset_arm\n",
      "[DEBUG,habitat_baselines] 2022-12-18 22:40:06,593 skill.py:62 Skill ResetArmSkill @ step tensor([27.], device='cuda:0'): Requested skill termination tensor([True], device='cuda:0')\n",
      "[DEBUG,habitat_baselines] 2022-12-18 22:40:06,594 high_level.py:42 Entering skill nav\n",
      "[DEBUG,habitat_baselines] 2022-12-18 22:40:07,047 skill.py:62 Skill NavSkillPolicy @ step tensor([20.], device='cuda:0'): Requested skill termination tensor([True], device='cuda:0')\n",
      "[DEBUG,habitat_baselines] 2022-12-18 22:40:07,048 high_level.py:42 Entering skill reset_arm\n",
      "[DEBUG,habitat_baselines] 2022-12-18 22:40:07,067 skill.py:62 Skill ResetArmSkill @ step tensor([1.], device='cuda:0'): Requested skill termination tensor([True], device='cuda:0')\n",
      "[DEBUG,habitat_baselines] 2022-12-18 22:40:07,067 high_level.py:42 Entering skill place\n",
      "[DEBUG,habitat_baselines] 2022-12-18 22:40:10,003 skill.py:62 Skill PlaceSkillPolicy @ step tensor([129.], device='cuda:0'): Terminating with tensor([0.1437], device='cuda:0') and tensor([False], device='cuda:0')\n",
      "[DEBUG,habitat_baselines] 2022-12-18 22:40:10,004 skill.py:62 Skill PlaceSkillPolicy @ step tensor([129.], device='cuda:0'): Requested skill termination tensor([True], device='cuda:0')\n"
     ]
    }
   ],
   "source": [
    "agent.go()"
   ]
  },
  {
   "cell_type": "code",
   "execution_count": null,
   "metadata": {},
   "outputs": [],
   "source": []
  },
  {
   "cell_type": "code",
   "execution_count": null,
   "metadata": {},
   "outputs": [],
   "source": []
  },
  {
   "cell_type": "code",
   "execution_count": null,
   "metadata": {},
   "outputs": [],
   "source": []
  },
  {
   "cell_type": "code",
   "execution_count": null,
   "metadata": {},
   "outputs": [],
   "source": []
  },
  {
   "cell_type": "code",
   "execution_count": 46,
   "metadata": {},
   "outputs": [],
   "source": [
    "import os\n",
    "import imageio\n",
    "writer = imageio.get_writer(\n",
    "    os.path.join('jeje/', 't1.mp4'),\n",
    "    fps=30,\n",
    "    quality=4,\n",
    ")\n",
    "images_iter = imgs\n",
    "for im in images_iter:\n",
    "    writer.append_data(im)\n",
    "writer.close()"
   ]
  },
  {
   "cell_type": "code",
   "execution_count": null,
   "metadata": {},
   "outputs": [
    {
     "data": {
      "text/plain": [
       "tensor([[ 0.7836, -0.3021,  1.0554, -0.9342,  2.1468, -0.2929,  2.6186, -1.0000,\n",
       "         -0.8106,  1.5978,  0.0000]], device='cuda:0', grad_fn=<CopyBackwards>)"
      ]
     },
     "execution_count": 40,
     "metadata": {},
     "output_type": "execute_result"
    }
   ],
   "source": [
    "prev_actions"
   ]
  },
  {
   "cell_type": "code",
   "execution_count": null,
   "metadata": {},
   "outputs": [],
   "source": []
  },
  {
   "cell_type": "code",
   "execution_count": null,
   "metadata": {},
   "outputs": [],
   "source": [
    "a = [np.clip(actions.cpu()[0].detach().numpy(), -100, 100)]"
   ]
  },
  {
   "cell_type": "code",
   "execution_count": null,
   "metadata": {},
   "outputs": [],
   "source": [
    "['goal_to_agent_gps_compass', 'joint']\n",
    "dict_keys(['goal_to_agent_gps_compass', 'joint', 'robot_head_depth', 'robot_third_rgb'])"
   ]
  },
  {
   "cell_type": "code",
   "execution_count": null,
   "metadata": {},
   "outputs": [
    {
     "data": {
      "text/plain": [
       "{'action': ('arm_action', 'base_velocity', 'rearrange_stop'),\n",
       " 'action_args': {'arm_action': array([-1.1724347 ,  1.0292538 ,  0.5338475 ,  0.45561925, -1.5024108 ,\n",
       "         -1.0308689 , -0.56501436], dtype=float32),\n",
       "  'grip_action': array([-1.491458], dtype=float32),\n",
       "  'base_vel': array([-0.07708543,  0.9953074 ], dtype=float32),\n",
       "  'rearrange_stop': array([0.], dtype=float32)}}"
      ]
     },
     "execution_count": 18,
     "metadata": {},
     "output_type": "execute_result"
    }
   ],
   "source": [
    "actions"
   ]
  },
  {
   "cell_type": "code",
   "execution_count": null,
   "metadata": {},
   "outputs": [
    {
     "ename": "TypeError",
     "evalue": "list indices must be integers or slices, not str",
     "output_type": "error",
     "traceback": [
      "\u001b[0;31m---------------------------------------------------------------------------\u001b[0m",
      "\u001b[0;31mTypeError\u001b[0m                                 Traceback (most recent call last)",
      "\u001b[0;32m/tmp/ipykernel_502000/4253754154.py\u001b[0m in \u001b[0;36m<module>\u001b[0;34m\u001b[0m\n\u001b[0;32m----> 1\u001b[0;31m \u001b[0menv\u001b[0m\u001b[0;34m.\u001b[0m\u001b[0mstep\u001b[0m\u001b[0;34m(\u001b[0m\u001b[0;34m[\u001b[0m\u001b[0ma\u001b[0m\u001b[0;34m,\u001b[0m\u001b[0mb\u001b[0m\u001b[0;34m]\u001b[0m\u001b[0;34m)\u001b[0m\u001b[0;34m\u001b[0m\u001b[0;34m\u001b[0m\u001b[0m\n\u001b[0m",
      "\u001b[0;32m~/habitat-llm/habitat-lab/habitat-lab/habitat/core/env.py\u001b[0m in \u001b[0;36mstep\u001b[0;34m(self, action, **kwargs)\u001b[0m\n\u001b[1;32m    308\u001b[0m \u001b[0;34m\u001b[0m\u001b[0m\n\u001b[1;32m    309\u001b[0m         observations = self.task.step(\n\u001b[0;32m--> 310\u001b[0;31m             \u001b[0maction\u001b[0m\u001b[0;34m=\u001b[0m\u001b[0maction\u001b[0m\u001b[0;34m,\u001b[0m \u001b[0mepisode\u001b[0m\u001b[0;34m=\u001b[0m\u001b[0mself\u001b[0m\u001b[0;34m.\u001b[0m\u001b[0mcurrent_episode\u001b[0m\u001b[0;34m\u001b[0m\u001b[0;34m\u001b[0m\u001b[0m\n\u001b[0m\u001b[1;32m    311\u001b[0m         )\n\u001b[1;32m    312\u001b[0m \u001b[0;34m\u001b[0m\u001b[0m\n",
      "\u001b[0;32m~/habitat-llm/habitat-lab/habitat-lab/habitat/tasks/rearrange/rearrange_task.py\u001b[0m in \u001b[0;36mstep\u001b[0;34m(self, action, episode)\u001b[0m\n\u001b[1;32m    209\u001b[0m \u001b[0;34m\u001b[0m\u001b[0m\n\u001b[1;32m    210\u001b[0m     \u001b[0;32mdef\u001b[0m \u001b[0mstep\u001b[0m\u001b[0;34m(\u001b[0m\u001b[0mself\u001b[0m\u001b[0;34m,\u001b[0m \u001b[0maction\u001b[0m\u001b[0;34m:\u001b[0m \u001b[0mDict\u001b[0m\u001b[0;34m[\u001b[0m\u001b[0mstr\u001b[0m\u001b[0;34m,\u001b[0m \u001b[0mAny\u001b[0m\u001b[0;34m]\u001b[0m\u001b[0;34m,\u001b[0m \u001b[0mepisode\u001b[0m\u001b[0;34m:\u001b[0m \u001b[0mEpisode\u001b[0m\u001b[0;34m)\u001b[0m\u001b[0;34m:\u001b[0m\u001b[0;34m\u001b[0m\u001b[0;34m\u001b[0m\u001b[0m\n\u001b[0;32m--> 211\u001b[0;31m         \u001b[0maction_args\u001b[0m \u001b[0;34m=\u001b[0m \u001b[0maction\u001b[0m\u001b[0;34m[\u001b[0m\u001b[0;34m\"action_args\"\u001b[0m\u001b[0;34m]\u001b[0m\u001b[0;34m\u001b[0m\u001b[0;34m\u001b[0m\u001b[0m\n\u001b[0m\u001b[1;32m    212\u001b[0m         if self._config.enable_safe_drop and self._is_violating_safe_drop(\n\u001b[1;32m    213\u001b[0m             \u001b[0maction_args\u001b[0m\u001b[0;34m\u001b[0m\u001b[0;34m\u001b[0m\u001b[0m\n",
      "\u001b[0;31mTypeError\u001b[0m: list indices must be integers or slices, not str"
     ]
    }
   ],
   "source": [
    "env.step([a,b])"
   ]
  },
  {
   "cell_type": "code",
   "execution_count": null,
   "metadata": {},
   "outputs": [],
   "source": []
  },
  {
   "cell_type": "code",
   "execution_count": null,
   "metadata": {},
   "outputs": [],
   "source": [
    "e"
   ]
  },
  {
   "cell_type": "code",
   "execution_count": null,
   "metadata": {},
   "outputs": [],
   "source": [
    "a = action_space.sample()"
   ]
  },
  {
   "cell_type": "code",
   "execution_count": null,
   "metadata": {},
   "outputs": [],
   "source": [
    "b = action_space.sample()"
   ]
  },
  {
   "cell_type": "code",
   "execution_count": null,
   "metadata": {},
   "outputs": [
    {
     "data": {
      "text/plain": [
       "{'action': 'rearrange_stop', 'action_args': None}"
      ]
     },
     "execution_count": 19,
     "metadata": {},
     "output_type": "execute_result"
    }
   ],
   "source": []
  },
  {
   "cell_type": "code",
   "execution_count": null,
   "metadata": {},
   "outputs": [
    {
     "data": {
      "text/plain": [
       "{'action': 'arm_action',\n",
       " 'action_args': OrderedDict([('arm_action',\n",
       "               array([ 0.92944694, -0.23688163, -0.12619945,  0.10966914,  0.10090859,\n",
       "                       0.87090665,  0.38779953], dtype=float32)),\n",
       "              ('grip_action', array([-0.46496338], dtype=float32))])}"
      ]
     },
     "execution_count": 20,
     "metadata": {},
     "output_type": "execute_result"
    }
   ],
   "source": [
    "b"
   ]
  },
  {
   "cell_type": "code",
   "execution_count": null,
   "metadata": {},
   "outputs": [],
   "source": []
  },
  {
   "cell_type": "code",
   "execution_count": null,
   "metadata": {},
   "outputs": [
    {
     "ename": "NameError",
     "evalue": "name 'a' is not defined",
     "output_type": "error",
     "traceback": [
      "\u001b[0;31m---------------------------------------------------------------------------\u001b[0m",
      "\u001b[0;31mNameError\u001b[0m                                 Traceback (most recent call last)",
      "\u001b[0;32m/tmp/ipykernel_498222/4210382649.py\u001b[0m in \u001b[0;36m<module>\u001b[0;34m\u001b[0m\n\u001b[0;32m----> 1\u001b[0;31m \u001b[0menvs\u001b[0m\u001b[0;34m.\u001b[0m\u001b[0mstep\u001b[0m\u001b[0;34m(\u001b[0m\u001b[0ma\u001b[0m\u001b[0;34m)\u001b[0m\u001b[0;34m\u001b[0m\u001b[0;34m\u001b[0m\u001b[0m\n\u001b[0m",
      "\u001b[0;31mNameError\u001b[0m: name 'a' is not defined"
     ]
    }
   ],
   "source": [
    "envs.step(a)"
   ]
  },
  {
   "cell_type": "code",
   "execution_count": null,
   "metadata": {},
   "outputs": [
    {
     "ename": "NameError",
     "evalue": "name 'envs' is not defined",
     "output_type": "error",
     "traceback": [
      "\u001b[0;31m---------------------------------------------------------------------------\u001b[0m",
      "\u001b[0;31mNameError\u001b[0m                                 Traceback (most recent call last)",
      "\u001b[0;32m/tmp/ipykernel_446480/3594936028.py\u001b[0m in \u001b[0;36m<module>\u001b[0;34m\u001b[0m\n\u001b[0;32m----> 1\u001b[0;31m \u001b[0menvs\u001b[0m\u001b[0;34m\u001b[0m\u001b[0;34m\u001b[0m\u001b[0m\n\u001b[0m",
      "\u001b[0;31mNameError\u001b[0m: name 'envs' is not defined"
     ]
    }
   ],
   "source": [
    "envs"
   ]
  },
  {
   "cell_type": "code",
   "execution_count": null,
   "metadata": {},
   "outputs": [
    {
     "ename": "NameError",
     "evalue": "name 'step_data' is not defined",
     "output_type": "error",
     "traceback": [
      "\u001b[0;31m---------------------------------------------------------------------------\u001b[0m",
      "\u001b[0;31mNameError\u001b[0m                                 Traceback (most recent call last)",
      "\u001b[0;32m/tmp/ipykernel_446480/2937870696.py\u001b[0m in \u001b[0;36m<module>\u001b[0;34m\u001b[0m\n\u001b[0;32m----> 1\u001b[0;31m \u001b[0mstep_data\u001b[0m\u001b[0;34m\u001b[0m\u001b[0;34m\u001b[0m\u001b[0m\n\u001b[0m",
      "\u001b[0;31mNameError\u001b[0m: name 'step_data' is not defined"
     ]
    }
   ],
   "source": [
    "step_data"
   ]
  },
  {
   "cell_type": "code",
   "execution_count": null,
   "metadata": {},
   "outputs": [
    {
     "data": {
      "text/plain": [
       "tensor([[[-0.0961,  0.0022, -0.0592,  ...,  0.1967,  0.2684,  0.0395],\n",
       "         [ 0.1866, -0.0981, -0.2612,  ..., -0.1694,  0.0365,  0.0268],\n",
       "         [-0.1526,  0.0057, -0.0819,  ...,  0.7220,  0.2926,  0.0701],\n",
       "         [ 0.2475, -0.1863, -0.4512,  ..., -0.3055,  0.0788,  0.0534]]],\n",
       "       device='cuda:0', grad_fn=<PermuteBackward0>)"
      ]
     },
     "execution_count": 40,
     "metadata": {},
     "output_type": "execute_result"
    }
   ],
   "source": [
    "hidden_states"
   ]
  },
  {
   "cell_type": "code",
   "execution_count": null,
   "metadata": {},
   "outputs": [],
   "source": []
  },
  {
   "cell_type": "code",
   "execution_count": null,
   "metadata": {},
   "outputs": [
    {
     "name": "stdout",
     "output_type": "stream",
     "text": [
      "Exception reporting mode: Verbose\n"
     ]
    }
   ],
   "source": [
    "%xmode"
   ]
  },
  {
   "cell_type": "code",
   "execution_count": null,
   "metadata": {},
   "outputs": [
    {
     "data": {
      "text/plain": [
       "tensor([[False]], device='cuda:0')"
      ]
     },
     "execution_count": 54,
     "metadata": {},
     "output_type": "execute_result"
    }
   ],
   "source": [
    "not_done_masks"
   ]
  },
  {
   "cell_type": "code",
   "execution_count": null,
   "metadata": {},
   "outputs": [
    {
     "ename": "AttributeError",
     "evalue": "'str' object has no attribute 'items'",
     "output_type": "error",
     "traceback": [
      "\u001b[0;31m---------------------------------------------------------------------------\u001b[0m",
      "\u001b[0;31mAttributeError\u001b[0m                            Traceback (most recent call last)",
      "\u001b[0;32m/tmp/ipykernel_384551/779603612.py\u001b[0m in \u001b[0;36m<module>\u001b[0;34m\u001b[0m\n\u001b[0;32m----> 1\u001b[0;31m \u001b[0mbatch\u001b[0m \u001b[0;34m=\u001b[0m \u001b[0mbatch_obs\u001b[0m\u001b[0;34m(\u001b[0m\u001b[0mobs\u001b[0m\u001b[0;34m,\u001b[0m \u001b[0mdevice\u001b[0m\u001b[0;34m=\u001b[0m\u001b[0mdevice\u001b[0m\u001b[0;34m)\u001b[0m\u001b[0;34m\u001b[0m\u001b[0;34m\u001b[0m\u001b[0m\n\u001b[0m\u001b[1;32m      2\u001b[0m \u001b[0mbatch\u001b[0m \u001b[0;34m=\u001b[0m \u001b[0mapply_obs_transforms_batch\u001b[0m\u001b[0;34m(\u001b[0m\u001b[0mbatch\u001b[0m\u001b[0;34m,\u001b[0m \u001b[0mobs_transforms\u001b[0m\u001b[0;34m)\u001b[0m\u001b[0;34m\u001b[0m\u001b[0;34m\u001b[0m\u001b[0m\n",
      "\u001b[0;32m~/.conda/envs/habitat-llm/lib/python3.7/site-packages/torch/autograd/grad_mode.py\u001b[0m in \u001b[0;36mdecorate_context\u001b[0;34m(*args, **kwargs)\u001b[0m\n\u001b[1;32m     25\u001b[0m         \u001b[0;32mdef\u001b[0m \u001b[0mdecorate_context\u001b[0m\u001b[0;34m(\u001b[0m\u001b[0;34m*\u001b[0m\u001b[0margs\u001b[0m\u001b[0;34m,\u001b[0m \u001b[0;34m**\u001b[0m\u001b[0mkwargs\u001b[0m\u001b[0;34m)\u001b[0m\u001b[0;34m:\u001b[0m\u001b[0;34m\u001b[0m\u001b[0;34m\u001b[0m\u001b[0m\n\u001b[1;32m     26\u001b[0m             \u001b[0;32mwith\u001b[0m \u001b[0mself\u001b[0m\u001b[0;34m.\u001b[0m\u001b[0mclone\u001b[0m\u001b[0;34m(\u001b[0m\u001b[0;34m)\u001b[0m\u001b[0;34m:\u001b[0m\u001b[0;34m\u001b[0m\u001b[0;34m\u001b[0m\u001b[0m\n\u001b[0;32m---> 27\u001b[0;31m                 \u001b[0;32mreturn\u001b[0m \u001b[0mfunc\u001b[0m\u001b[0;34m(\u001b[0m\u001b[0;34m*\u001b[0m\u001b[0margs\u001b[0m\u001b[0;34m,\u001b[0m \u001b[0;34m**\u001b[0m\u001b[0mkwargs\u001b[0m\u001b[0;34m)\u001b[0m\u001b[0;34m\u001b[0m\u001b[0;34m\u001b[0m\u001b[0m\n\u001b[0m\u001b[1;32m     28\u001b[0m         \u001b[0;32mreturn\u001b[0m \u001b[0mcast\u001b[0m\u001b[0;34m(\u001b[0m\u001b[0mF\u001b[0m\u001b[0;34m,\u001b[0m \u001b[0mdecorate_context\u001b[0m\u001b[0;34m)\u001b[0m\u001b[0;34m\u001b[0m\u001b[0;34m\u001b[0m\u001b[0m\n\u001b[1;32m     29\u001b[0m \u001b[0;34m\u001b[0m\u001b[0m\n",
      "\u001b[0;32m~/.conda/envs/habitat-llm/lib/python3.7/contextlib.py\u001b[0m in \u001b[0;36minner\u001b[0;34m(*args, **kwds)\u001b[0m\n\u001b[1;32m     72\u001b[0m         \u001b[0;32mdef\u001b[0m \u001b[0minner\u001b[0m\u001b[0;34m(\u001b[0m\u001b[0;34m*\u001b[0m\u001b[0margs\u001b[0m\u001b[0;34m,\u001b[0m \u001b[0;34m**\u001b[0m\u001b[0mkwds\u001b[0m\u001b[0;34m)\u001b[0m\u001b[0;34m:\u001b[0m\u001b[0;34m\u001b[0m\u001b[0;34m\u001b[0m\u001b[0m\n\u001b[1;32m     73\u001b[0m             \u001b[0;32mwith\u001b[0m \u001b[0mself\u001b[0m\u001b[0;34m.\u001b[0m\u001b[0m_recreate_cm\u001b[0m\u001b[0;34m(\u001b[0m\u001b[0;34m)\u001b[0m\u001b[0;34m:\u001b[0m\u001b[0;34m\u001b[0m\u001b[0;34m\u001b[0m\u001b[0m\n\u001b[0;32m---> 74\u001b[0;31m                 \u001b[0;32mreturn\u001b[0m \u001b[0mfunc\u001b[0m\u001b[0;34m(\u001b[0m\u001b[0;34m*\u001b[0m\u001b[0margs\u001b[0m\u001b[0;34m,\u001b[0m \u001b[0;34m**\u001b[0m\u001b[0mkwds\u001b[0m\u001b[0;34m)\u001b[0m\u001b[0;34m\u001b[0m\u001b[0;34m\u001b[0m\u001b[0m\n\u001b[0m\u001b[1;32m     75\u001b[0m         \u001b[0;32mreturn\u001b[0m \u001b[0minner\u001b[0m\u001b[0;34m\u001b[0m\u001b[0;34m\u001b[0m\u001b[0m\n\u001b[1;32m     76\u001b[0m \u001b[0;34m\u001b[0m\u001b[0m\n",
      "\u001b[0;32m~/habitat-llm/habitat-lab/habitat-baselines/habitat_baselines/utils/common.py\u001b[0m in \u001b[0;36mbatch_obs\u001b[0;34m(observations, device)\u001b[0m\n\u001b[1;32m    330\u001b[0m     \"\"\"\n\u001b[1;32m    331\u001b[0m \u001b[0;34m\u001b[0m\u001b[0m\n\u001b[0;32m--> 332\u001b[0;31m     \u001b[0;32mreturn\u001b[0m \u001b[0m_ObservationBatchingCache\u001b[0m\u001b[0;34m(\u001b[0m\u001b[0;34m)\u001b[0m\u001b[0;34m.\u001b[0m\u001b[0mbatch_obs\u001b[0m\u001b[0;34m(\u001b[0m\u001b[0mobservations\u001b[0m\u001b[0;34m,\u001b[0m \u001b[0mdevice\u001b[0m\u001b[0;34m)\u001b[0m\u001b[0;34m\u001b[0m\u001b[0;34m\u001b[0m\u001b[0m\n\u001b[0m\u001b[1;32m    333\u001b[0m \u001b[0;34m\u001b[0m\u001b[0m\n\u001b[1;32m    334\u001b[0m \u001b[0;34m\u001b[0m\u001b[0m\n",
      "\u001b[0;32m~/habitat-llm/habitat-lab/habitat-baselines/habitat_baselines/utils/common.py\u001b[0m in \u001b[0;36mbatch_obs\u001b[0;34m(self, observations, device)\u001b[0m\n\u001b[1;32m    255\u001b[0m                 \u001b[0;32melse\u001b[0m \u001b[0mt\u001b[0m\u001b[0;34m\u001b[0m\u001b[0;34m\u001b[0m\u001b[0m\n\u001b[1;32m    256\u001b[0m             )\n\u001b[0;32m--> 257\u001b[0;31m             \u001b[0;32mfor\u001b[0m \u001b[0mo\u001b[0m \u001b[0;32min\u001b[0m \u001b[0mobservations\u001b[0m\u001b[0;34m\u001b[0m\u001b[0;34m\u001b[0m\u001b[0m\n\u001b[0m\u001b[1;32m    258\u001b[0m         ]\n\u001b[1;32m    259\u001b[0m         \u001b[0mobservation_keys\u001b[0m\u001b[0;34m,\u001b[0m \u001b[0m_\u001b[0m \u001b[0;34m=\u001b[0m \u001b[0mobservations\u001b[0m\u001b[0;34m[\u001b[0m\u001b[0;36m0\u001b[0m\u001b[0;34m]\u001b[0m\u001b[0;34m.\u001b[0m\u001b[0mflatten\u001b[0m\u001b[0;34m(\u001b[0m\u001b[0;34m)\u001b[0m\u001b[0;34m\u001b[0m\u001b[0;34m\u001b[0m\u001b[0m\n",
      "\u001b[0;32m~/habitat-llm/habitat-lab/habitat-baselines/habitat_baselines/utils/common.py\u001b[0m in \u001b[0;36m<listcomp>\u001b[0;34m(.0)\u001b[0m\n\u001b[1;32m    255\u001b[0m                 \u001b[0;32melse\u001b[0m \u001b[0mt\u001b[0m\u001b[0;34m\u001b[0m\u001b[0;34m\u001b[0m\u001b[0m\n\u001b[1;32m    256\u001b[0m             )\n\u001b[0;32m--> 257\u001b[0;31m             \u001b[0;32mfor\u001b[0m \u001b[0mo\u001b[0m \u001b[0;32min\u001b[0m \u001b[0mobservations\u001b[0m\u001b[0;34m\u001b[0m\u001b[0;34m\u001b[0m\u001b[0m\n\u001b[0m\u001b[1;32m    258\u001b[0m         ]\n\u001b[1;32m    259\u001b[0m         \u001b[0mobservation_keys\u001b[0m\u001b[0;34m,\u001b[0m \u001b[0m_\u001b[0m \u001b[0;34m=\u001b[0m \u001b[0mobservations\u001b[0m\u001b[0;34m[\u001b[0m\u001b[0;36m0\u001b[0m\u001b[0;34m]\u001b[0m\u001b[0;34m.\u001b[0m\u001b[0mflatten\u001b[0m\u001b[0;34m(\u001b[0m\u001b[0;34m)\u001b[0m\u001b[0;34m\u001b[0m\u001b[0;34m\u001b[0m\u001b[0m\n",
      "\u001b[0;32m~/habitat-llm/habitat-lab/habitat-baselines/habitat_baselines/common/tensor_dict.py\u001b[0m in \u001b[0;36mfrom_tree\u001b[0;34m(cls, tree)\u001b[0m\n\u001b[1;32m     72\u001b[0m     ) -> _DictTreeInst:\n\u001b[1;32m     73\u001b[0m         \u001b[0mres\u001b[0m \u001b[0;34m=\u001b[0m \u001b[0mcls\u001b[0m\u001b[0;34m(\u001b[0m\u001b[0;34m)\u001b[0m\u001b[0;34m\u001b[0m\u001b[0;34m\u001b[0m\u001b[0m\n\u001b[0;32m---> 74\u001b[0;31m         \u001b[0;32mfor\u001b[0m \u001b[0mk\u001b[0m\u001b[0;34m,\u001b[0m \u001b[0mv\u001b[0m \u001b[0;32min\u001b[0m \u001b[0mtree\u001b[0m\u001b[0;34m.\u001b[0m\u001b[0mitems\u001b[0m\u001b[0;34m(\u001b[0m\u001b[0;34m)\u001b[0m\u001b[0;34m:\u001b[0m\u001b[0;34m\u001b[0m\u001b[0;34m\u001b[0m\u001b[0m\n\u001b[0m\u001b[1;32m     75\u001b[0m             \u001b[0;32mif\u001b[0m \u001b[0misinstance\u001b[0m\u001b[0;34m(\u001b[0m\u001b[0mv\u001b[0m\u001b[0;34m,\u001b[0m \u001b[0mdict\u001b[0m\u001b[0;34m)\u001b[0m\u001b[0;34m:\u001b[0m\u001b[0;34m\u001b[0m\u001b[0;34m\u001b[0m\u001b[0m\n\u001b[1;32m     76\u001b[0m                 \u001b[0mres\u001b[0m\u001b[0;34m[\u001b[0m\u001b[0mk\u001b[0m\u001b[0;34m]\u001b[0m \u001b[0;34m=\u001b[0m \u001b[0mcls\u001b[0m\u001b[0;34m.\u001b[0m\u001b[0mfrom_tree\u001b[0m\u001b[0;34m(\u001b[0m\u001b[0mv\u001b[0m\u001b[0;34m)\u001b[0m\u001b[0;34m\u001b[0m\u001b[0;34m\u001b[0m\u001b[0m\n",
      "\u001b[0;31mAttributeError\u001b[0m: 'str' object has no attribute 'items'"
     ]
    }
   ],
   "source": []
  },
  {
   "cell_type": "code",
   "execution_count": null,
   "metadata": {},
   "outputs": [],
   "source": []
  },
  {
   "cell_type": "code",
   "execution_count": null,
   "metadata": {},
   "outputs": [],
   "source": []
  },
  {
   "cell_type": "markdown",
   "metadata": {},
   "source": []
  },
  {
   "cell_type": "code",
   "execution_count": null,
   "metadata": {},
   "outputs": [],
   "source": [
    "import torch\n",
    "from habitat_baselines.common.baseline_registry import baseline_registry"
   ]
  },
  {
   "cell_type": "code",
   "execution_count": null,
   "metadata": {},
   "outputs": [],
   "source": [
    "try:\n",
    "    ckpt_dict = torch.load(\n",
    "        config.load_ckpt_file, map_location=\"cpu\"\n",
    "    )\n",
    "except FileNotFoundError as e:\n",
    "    raise FileNotFoundError(\n",
    "        \"Could not load neural network weights for skill.\"\n",
    "    ) from e\n",
    "\n",
    "policy_cfg = ckpt_dict[\"config\"]\n",
    "policy = baseline_registry.get_policy(config.name)\n",
    "\n",
    "expected_obs_space = policy_cfg.habitat.gym.obs_keys\n",
    "excepted_action_space = policy_cfg.habitat.task.actions.keys()"
   ]
  },
  {
   "cell_type": "code",
   "execution_count": null,
   "metadata": {},
   "outputs": [],
   "source": []
  },
  {
   "cell_type": "code",
   "execution_count": null,
   "metadata": {},
   "outputs": [],
   "source": []
  },
  {
   "cell_type": "code",
   "execution_count": null,
   "metadata": {},
   "outputs": [
    {
     "name": "stdout",
     "output_type": "stream",
     "text": [
      "b3Warning[examples/Importers/ImportURDFDemo/BulletUrdfImporter.cpp,467]:\n",
      "Bad inertia tensor properties, setting inertia to zero for link: r_gripper_finger_link\n",
      "b3Warning[examples/Importers/ImportURDFDemo/BulletUrdfImporter.cpp,467]:\n",
      "Bad inertia tensor properties, setting inertia to zero for link: l_gripper_finger_link\n",
      "b3Warning[examples/Importers/ImportURDFDemo/BulletUrdfImporter.cpp,467]:\n",
      "Bad inertia tensor properties, setting inertia to zero for link: r_gripper_finger_link\n",
      "b3Warning[examples/Importers/ImportURDFDemo/BulletUrdfImporter.cpp,467]:\n",
      "Bad inertia tensor properties, setting inertia to zero for link: l_gripper_finger_link\n"
     ]
    },
    {
     "ename": "AttributeError",
     "evalue": "'RearrangeSim' object has no attribute 'dynamic_target'",
     "output_type": "error",
     "traceback": [
      "\u001b[0;31m---------------------------------------------------------------------------\u001b[0m",
      "\u001b[0;31mAttributeError\u001b[0m                            Traceback (most recent call last)",
      "\u001b[0;32m/var/folders/6j/6qtm9y3d4c3086pvl_w3ps200000gn/T/ipykernel_63449/572437473.py\u001b[0m in \u001b[0;36m<module>\u001b[0;34m\u001b[0m\n\u001b[0;32m----> 1\u001b[0;31m \u001b[0mobs\u001b[0m \u001b[0;34m=\u001b[0m \u001b[0menv\u001b[0m\u001b[0;34m.\u001b[0m\u001b[0mreset\u001b[0m\u001b[0;34m(\u001b[0m\u001b[0;34m)\u001b[0m\u001b[0;34m\u001b[0m\u001b[0;34m\u001b[0m\u001b[0m\n\u001b[0m",
      "\u001b[0;32m~/Documents/habitat-llm/habitat-lab/habitat-lab/habitat/core/env.py\u001b[0m in \u001b[0;36mreset\u001b[0;34m(self)\u001b[0m\n\u001b[1;32m    260\u001b[0m         \u001b[0mself\u001b[0m\u001b[0;34m.\u001b[0m\u001b[0mreconfigure\u001b[0m\u001b[0;34m(\u001b[0m\u001b[0mself\u001b[0m\u001b[0;34m.\u001b[0m\u001b[0m_config\u001b[0m\u001b[0;34m)\u001b[0m\u001b[0;34m\u001b[0m\u001b[0;34m\u001b[0m\u001b[0m\n\u001b[1;32m    261\u001b[0m \u001b[0;34m\u001b[0m\u001b[0m\n\u001b[0;32m--> 262\u001b[0;31m         \u001b[0mobservations\u001b[0m \u001b[0;34m=\u001b[0m \u001b[0mself\u001b[0m\u001b[0;34m.\u001b[0m\u001b[0mtask\u001b[0m\u001b[0;34m.\u001b[0m\u001b[0mreset\u001b[0m\u001b[0;34m(\u001b[0m\u001b[0mepisode\u001b[0m\u001b[0;34m=\u001b[0m\u001b[0mself\u001b[0m\u001b[0;34m.\u001b[0m\u001b[0mcurrent_episode\u001b[0m\u001b[0;34m)\u001b[0m\u001b[0;34m\u001b[0m\u001b[0;34m\u001b[0m\u001b[0m\n\u001b[0m\u001b[1;32m    263\u001b[0m         self._task.measurements.reset_measures(\n\u001b[1;32m    264\u001b[0m             \u001b[0mepisode\u001b[0m\u001b[0;34m=\u001b[0m\u001b[0mself\u001b[0m\u001b[0;34m.\u001b[0m\u001b[0mcurrent_episode\u001b[0m\u001b[0;34m,\u001b[0m\u001b[0;34m\u001b[0m\u001b[0;34m\u001b[0m\u001b[0m\n",
      "\u001b[0;32m~/Documents/habitat-llm/habitat-lab/habitat-lab/habitat/tasks/rearrange/rearrange_task.py\u001b[0m in \u001b[0;36mreset\u001b[0;34m(self, episode, fetch_observations)\u001b[0m\n\u001b[1;32m    180\u001b[0m         \u001b[0;32mif\u001b[0m \u001b[0mfetch_observations\u001b[0m\u001b[0;34m:\u001b[0m\u001b[0;34m\u001b[0m\u001b[0;34m\u001b[0m\u001b[0m\n\u001b[1;32m    181\u001b[0m             \u001b[0mself\u001b[0m\u001b[0;34m.\u001b[0m\u001b[0m_sim\u001b[0m\u001b[0;34m.\u001b[0m\u001b[0mmaybe_update_robot\u001b[0m\u001b[0;34m(\u001b[0m\u001b[0;34m)\u001b[0m\u001b[0;34m\u001b[0m\u001b[0;34m\u001b[0m\u001b[0m\n\u001b[0;32m--> 182\u001b[0;31m             \u001b[0;32mreturn\u001b[0m \u001b[0mself\u001b[0m\u001b[0;34m.\u001b[0m\u001b[0m_get_observations\u001b[0m\u001b[0;34m(\u001b[0m\u001b[0mepisode\u001b[0m\u001b[0;34m)\u001b[0m\u001b[0;34m\u001b[0m\u001b[0;34m\u001b[0m\u001b[0m\n\u001b[0m\u001b[1;32m    183\u001b[0m         \u001b[0;32melse\u001b[0m\u001b[0;34m:\u001b[0m\u001b[0;34m\u001b[0m\u001b[0;34m\u001b[0m\u001b[0m\n\u001b[1;32m    184\u001b[0m             \u001b[0;32mreturn\u001b[0m \u001b[0;32mNone\u001b[0m\u001b[0;34m\u001b[0m\u001b[0;34m\u001b[0m\u001b[0m\n",
      "\u001b[0;32m~/Documents/habitat-llm/habitat-lab/habitat-lab/habitat/tasks/rearrange/rearrange_task.py\u001b[0m in \u001b[0;36m_get_observations\u001b[0;34m(self, episode)\u001b[0m\n\u001b[1;32m    189\u001b[0m \u001b[0;34m\u001b[0m\u001b[0m\n\u001b[1;32m    190\u001b[0m         task_obs = self.sensor_suite.get_observations(\n\u001b[0;32m--> 191\u001b[0;31m             \u001b[0mobservations\u001b[0m\u001b[0;34m=\u001b[0m\u001b[0mobs\u001b[0m\u001b[0;34m,\u001b[0m \u001b[0mepisode\u001b[0m\u001b[0;34m=\u001b[0m\u001b[0mepisode\u001b[0m\u001b[0;34m,\u001b[0m \u001b[0mtask\u001b[0m\u001b[0;34m=\u001b[0m\u001b[0mself\u001b[0m\u001b[0;34m\u001b[0m\u001b[0;34m\u001b[0m\u001b[0m\n\u001b[0m\u001b[1;32m    192\u001b[0m         )\n\u001b[1;32m    193\u001b[0m         \u001b[0mobs\u001b[0m\u001b[0;34m.\u001b[0m\u001b[0mupdate\u001b[0m\u001b[0;34m(\u001b[0m\u001b[0mtask_obs\u001b[0m\u001b[0;34m)\u001b[0m\u001b[0;34m\u001b[0m\u001b[0;34m\u001b[0m\u001b[0m\n",
      "\u001b[0;32m~/Documents/habitat-llm/habitat-lab/habitat-lab/habitat/core/simulator.py\u001b[0m in \u001b[0;36mget_observations\u001b[0;34m(self, *args, **kwargs)\u001b[0m\n\u001b[1;32m    227\u001b[0m         \u001b[0;34m:\u001b[0m\u001b[0mref\u001b[0m\u001b[0;34m:\u001b[0m\u001b[0;31m`\u001b[0m\u001b[0mObservations\u001b[0m\u001b[0;31m`\u001b[0m\u001b[0;34m.\u001b[0m\u001b[0;34m\u001b[0m\u001b[0;34m\u001b[0m\u001b[0m\n\u001b[1;32m    228\u001b[0m         \"\"\"\n\u001b[0;32m--> 229\u001b[0;31m         \u001b[0;32mreturn\u001b[0m \u001b[0mObservations\u001b[0m\u001b[0;34m(\u001b[0m\u001b[0mself\u001b[0m\u001b[0;34m.\u001b[0m\u001b[0msensors\u001b[0m\u001b[0;34m,\u001b[0m \u001b[0;34m*\u001b[0m\u001b[0margs\u001b[0m\u001b[0;34m,\u001b[0m \u001b[0;34m**\u001b[0m\u001b[0mkwargs\u001b[0m\u001b[0;34m)\u001b[0m\u001b[0;34m\u001b[0m\u001b[0;34m\u001b[0m\u001b[0m\n\u001b[0m\u001b[1;32m    230\u001b[0m \u001b[0;34m\u001b[0m\u001b[0m\n\u001b[1;32m    231\u001b[0m \u001b[0;34m\u001b[0m\u001b[0m\n",
      "\u001b[0;32m~/Documents/habitat-llm/habitat-lab/habitat-lab/habitat/core/simulator.py\u001b[0m in \u001b[0;36m__init__\u001b[0;34m(self, sensors, *args, **kwargs)\u001b[0m\n\u001b[1;32m    123\u001b[0m         data = [\n\u001b[1;32m    124\u001b[0m             \u001b[0;34m(\u001b[0m\u001b[0muuid\u001b[0m\u001b[0;34m,\u001b[0m \u001b[0msensor\u001b[0m\u001b[0;34m.\u001b[0m\u001b[0mget_observation\u001b[0m\u001b[0;34m(\u001b[0m\u001b[0;34m*\u001b[0m\u001b[0margs\u001b[0m\u001b[0;34m,\u001b[0m \u001b[0;34m**\u001b[0m\u001b[0mkwargs\u001b[0m\u001b[0;34m)\u001b[0m\u001b[0;34m)\u001b[0m\u001b[0;34m\u001b[0m\u001b[0;34m\u001b[0m\u001b[0m\n\u001b[0;32m--> 125\u001b[0;31m             \u001b[0;32mfor\u001b[0m \u001b[0muuid\u001b[0m\u001b[0;34m,\u001b[0m \u001b[0msensor\u001b[0m \u001b[0;32min\u001b[0m \u001b[0msensors\u001b[0m\u001b[0;34m.\u001b[0m\u001b[0mitems\u001b[0m\u001b[0;34m(\u001b[0m\u001b[0;34m)\u001b[0m\u001b[0;34m\u001b[0m\u001b[0;34m\u001b[0m\u001b[0m\n\u001b[0m\u001b[1;32m    126\u001b[0m         ]\n\u001b[1;32m    127\u001b[0m         \u001b[0msuper\u001b[0m\u001b[0;34m(\u001b[0m\u001b[0;34m)\u001b[0m\u001b[0;34m.\u001b[0m\u001b[0m__init__\u001b[0m\u001b[0;34m(\u001b[0m\u001b[0mdata\u001b[0m\u001b[0;34m)\u001b[0m\u001b[0;34m\u001b[0m\u001b[0;34m\u001b[0m\u001b[0m\n",
      "\u001b[0;32m~/Documents/habitat-llm/habitat-lab/habitat-lab/habitat/core/simulator.py\u001b[0m in \u001b[0;36m<listcomp>\u001b[0;34m(.0)\u001b[0m\n\u001b[1;32m    123\u001b[0m         data = [\n\u001b[1;32m    124\u001b[0m             \u001b[0;34m(\u001b[0m\u001b[0muuid\u001b[0m\u001b[0;34m,\u001b[0m \u001b[0msensor\u001b[0m\u001b[0;34m.\u001b[0m\u001b[0mget_observation\u001b[0m\u001b[0;34m(\u001b[0m\u001b[0;34m*\u001b[0m\u001b[0margs\u001b[0m\u001b[0;34m,\u001b[0m \u001b[0;34m**\u001b[0m\u001b[0mkwargs\u001b[0m\u001b[0;34m)\u001b[0m\u001b[0;34m)\u001b[0m\u001b[0;34m\u001b[0m\u001b[0;34m\u001b[0m\u001b[0m\n\u001b[0;32m--> 125\u001b[0;31m             \u001b[0;32mfor\u001b[0m \u001b[0muuid\u001b[0m\u001b[0;34m,\u001b[0m \u001b[0msensor\u001b[0m \u001b[0;32min\u001b[0m \u001b[0msensors\u001b[0m\u001b[0;34m.\u001b[0m\u001b[0mitems\u001b[0m\u001b[0;34m(\u001b[0m\u001b[0;34m)\u001b[0m\u001b[0;34m\u001b[0m\u001b[0;34m\u001b[0m\u001b[0m\n\u001b[0m\u001b[1;32m    126\u001b[0m         ]\n\u001b[1;32m    127\u001b[0m         \u001b[0msuper\u001b[0m\u001b[0;34m(\u001b[0m\u001b[0;34m)\u001b[0m\u001b[0;34m.\u001b[0m\u001b[0m__init__\u001b[0m\u001b[0;34m(\u001b[0m\u001b[0mdata\u001b[0m\u001b[0;34m)\u001b[0m\u001b[0;34m\u001b[0m\u001b[0;34m\u001b[0m\u001b[0m\n",
      "\u001b[0;32m~/Documents/habitat-llm/src/sensors.py\u001b[0m in \u001b[0;36mget_observation\u001b[0;34m(self, task, *args, **kwargs)\u001b[0m\n\u001b[1;32m     46\u001b[0m \u001b[0;34m\u001b[0m\u001b[0m\n\u001b[1;32m     47\u001b[0m     \u001b[0;32mdef\u001b[0m \u001b[0mget_observation\u001b[0m\u001b[0;34m(\u001b[0m\u001b[0mself\u001b[0m\u001b[0;34m,\u001b[0m \u001b[0mtask\u001b[0m\u001b[0;34m,\u001b[0m \u001b[0;34m*\u001b[0m\u001b[0margs\u001b[0m\u001b[0;34m,\u001b[0m \u001b[0;34m**\u001b[0m\u001b[0mkwargs\u001b[0m\u001b[0;34m)\u001b[0m\u001b[0;34m:\u001b[0m\u001b[0;34m\u001b[0m\u001b[0;34m\u001b[0m\u001b[0m\n\u001b[0;32m---> 48\u001b[0;31m         \u001b[0mtarget\u001b[0m \u001b[0;34m=\u001b[0m \u001b[0mself\u001b[0m\u001b[0;34m.\u001b[0m\u001b[0m_sim\u001b[0m\u001b[0;34m.\u001b[0m\u001b[0mdynamic_target\u001b[0m\u001b[0;34m\u001b[0m\u001b[0;34m\u001b[0m\u001b[0m\n\u001b[0m\u001b[1;32m     49\u001b[0m         \u001b[0;31m#target = task.nav_goal_pos\u001b[0m\u001b[0;34m\u001b[0m\u001b[0;34m\u001b[0m\u001b[0;34m\u001b[0m\u001b[0m\n\u001b[1;32m     50\u001b[0m         \u001b[0mtransform\u001b[0m \u001b[0;34m=\u001b[0m \u001b[0mself\u001b[0m\u001b[0;34m.\u001b[0m\u001b[0m_sim\u001b[0m\u001b[0;34m.\u001b[0m\u001b[0mget_robot_data\u001b[0m\u001b[0;34m(\u001b[0m\u001b[0mself\u001b[0m\u001b[0;34m.\u001b[0m\u001b[0mrobot_id\u001b[0m\u001b[0;34m)\u001b[0m\u001b[0;34m.\u001b[0m\u001b[0mrobot\u001b[0m\u001b[0;34m.\u001b[0m\u001b[0mbase_transformation\u001b[0m\u001b[0;34m\u001b[0m\u001b[0;34m\u001b[0m\u001b[0m\n",
      "\u001b[0;31mAttributeError\u001b[0m: 'RearrangeSim' object has no attribute 'dynamic_target'"
     ]
    }
   ],
   "source": []
  },
  {
   "cell_type": "code",
   "execution_count": null,
   "metadata": {},
   "outputs": [],
   "source": []
  },
  {
   "cell_type": "code",
   "execution_count": null,
   "metadata": {},
   "outputs": [],
   "source": []
  },
  {
   "cell_type": "code",
   "execution_count": null,
   "metadata": {},
   "outputs": [
    {
     "data": {
      "text/plain": [
       "{'robot_head_rgb': array([[[231, 229, 227],\n",
       "         [231, 230, 228],\n",
       "         [232, 231, 228],\n",
       "         ...,\n",
       "         [ 23, 138, 209],\n",
       "         [ 25, 140, 211],\n",
       "         [ 27, 141, 212]],\n",
       " \n",
       "        [[231, 228, 225],\n",
       "         [232, 230, 227],\n",
       "         [232, 231, 228],\n",
       "         ...,\n",
       "         [ 23, 132, 201],\n",
       "         [ 26, 134, 201],\n",
       "         [ 23, 133, 202]],\n",
       " \n",
       "        [[231, 228, 226],\n",
       "         [232, 229, 227],\n",
       "         [232, 232, 230],\n",
       "         ...,\n",
       "         [ 23, 128, 193],\n",
       "         [ 23, 131, 198],\n",
       "         [ 21, 124, 188]],\n",
       " \n",
       "        ...,\n",
       " \n",
       "        [[112,  97,  60],\n",
       "         [111,  96,  57],\n",
       "         [108,  92,  53],\n",
       "         ...,\n",
       "         [ 77,  81,  88],\n",
       "         [ 78,  81,  88],\n",
       "         [ 78,  81,  88]],\n",
       " \n",
       "        [[110,  95,  56],\n",
       "         [105,  90,  50],\n",
       "         [107,  91,  51],\n",
       "         ...,\n",
       "         [ 78,  81,  88],\n",
       "         [ 78,  81,  88],\n",
       "         [ 78,  81,  88]],\n",
       " \n",
       "        [[106,  90,  51],\n",
       "         [106,  90,  50],\n",
       "         [108,  91,  52],\n",
       "         ...,\n",
       "         [ 78,  81,  88],\n",
       "         [ 77,  81,  88],\n",
       "         [ 78,  81,  88]]], dtype=uint8),\n",
       " 'robot_head_depth': array([[[0.20717935],\n",
       "         [0.20908222],\n",
       "         [0.2110177 ],\n",
       "         ...,\n",
       "         [0.02362373],\n",
       "         [0.02346284],\n",
       "         [0.02336156]],\n",
       " \n",
       "        [[0.20757154],\n",
       "         [0.20948164],\n",
       "         [0.21142456],\n",
       "         ...,\n",
       "         [0.02365801],\n",
       "         [0.02352076],\n",
       "         [0.02334375]],\n",
       " \n",
       "        [[0.20796521],\n",
       "         [0.20988259],\n",
       "         [0.21183297],\n",
       "         ...,\n",
       "         [0.02370862],\n",
       "         [0.0236014 ],\n",
       "         [0.02341317]],\n",
       " \n",
       "        ...,\n",
       " \n",
       "        [[0.10580228],\n",
       "         [0.10580228],\n",
       "         [0.10580228],\n",
       "         ...,\n",
       "         [0.10499712],\n",
       "         [0.10499712],\n",
       "         [0.10499712]],\n",
       " \n",
       "        [[0.10460107],\n",
       "         [0.10460107],\n",
       "         [0.10460107],\n",
       "         ...,\n",
       "         [0.10380503],\n",
       "         [0.10380503],\n",
       "         [0.10380503]],\n",
       " \n",
       "        [[0.10342747],\n",
       "         [0.10342747],\n",
       "         [0.10342747],\n",
       "         ...,\n",
       "         [0.10264035],\n",
       "         [0.10264035],\n",
       "         [0.10263971]]], dtype=float32),\n",
       " 'robot_arm_rgb': array([[[ 77,  80,  87],\n",
       "         [ 78,  81,  88],\n",
       "         [ 78,  82,  89],\n",
       "         ...,\n",
       "         [132, 110,  61],\n",
       "         [131, 109,  60],\n",
       "         [130, 108,  60]],\n",
       " \n",
       "        [[ 77,  80,  87],\n",
       "         [ 77,  80,  87],\n",
       "         [ 78,  81,  88],\n",
       "         ...,\n",
       "         [130, 108,  59],\n",
       "         [131, 109,  60],\n",
       "         [130, 108,  59]],\n",
       " \n",
       "        [[ 77,  80,  87],\n",
       "         [ 77,  80,  87],\n",
       "         [ 77,  81,  88],\n",
       "         ...,\n",
       "         [131, 109,  60],\n",
       "         [132, 110,  61],\n",
       "         [129, 108,  59]],\n",
       " \n",
       "        ...,\n",
       " \n",
       "        [[ 23,  23,  23],\n",
       "         [ 23,  23,  22],\n",
       "         [ 22,  22,  22],\n",
       "         ...,\n",
       "         [255, 255, 245],\n",
       "         [255, 255, 247],\n",
       "         [255, 255, 250]],\n",
       " \n",
       "        [[ 23,  23,  22],\n",
       "         [ 22,  22,  22],\n",
       "         [ 20,  19,  19],\n",
       "         ...,\n",
       "         [255, 255, 252],\n",
       "         [255, 255, 252],\n",
       "         [255, 255, 250]],\n",
       " \n",
       "        [[ 23,  22,  22],\n",
       "         [ 17,  17,  17],\n",
       "         [ 10,   9,   9],\n",
       "         ...,\n",
       "         [255, 255, 255],\n",
       "         [255, 255, 255],\n",
       "         [255, 255, 255]]], dtype=uint8),\n",
       " 'robot_arm_depth': array([[[0.09136417],\n",
       "         [0.09156112],\n",
       "         [0.09175892],\n",
       "         ...,\n",
       "         [0.12596013],\n",
       "         [0.12633191],\n",
       "         [0.12670687]],\n",
       " \n",
       "        [[0.09231125],\n",
       "         [0.09251231],\n",
       "         [0.09271476],\n",
       "         ...,\n",
       "         [0.1277537 ],\n",
       "         [0.1281362 ],\n",
       "         [0.12852098]],\n",
       " \n",
       "        [[0.09327869],\n",
       "         [0.09348399],\n",
       "         [0.09369019],\n",
       "         ...,\n",
       "         [0.12959912],\n",
       "         [0.12999275],\n",
       "         [0.13038877]],\n",
       " \n",
       "        ...,\n",
       " \n",
       "        [[0.3838867 ],\n",
       "         [0.3898182 ],\n",
       "         [0.39593583],\n",
       "         ...,\n",
       "         [0.22133753],\n",
       "         [0.22047946],\n",
       "         [0.21962515]],\n",
       " \n",
       "        [[0.3828967 ],\n",
       "         [0.38879737],\n",
       "         [0.39488277],\n",
       "         ...,\n",
       "         [0.21729548],\n",
       "         [0.21646842],\n",
       "         [0.21564487]],\n",
       " \n",
       "        [[0.3819205 ],\n",
       "         [0.38779086],\n",
       "         [0.39384454],\n",
       "         ...,\n",
       "         [0.21339843],\n",
       "         [0.21260071],\n",
       "         [0.21180625]]], dtype=float32),\n",
       " 'joint': array([-0.5631264 , -0.998043  ,  0.23101287,  0.7306637 ,  0.02129877,\n",
       "         1.3593793 ,  0.09080271], dtype=float32),\n",
       " 'dynamic_goal_to_agent_gps_compass': array([ 2.1474106, -2.4638846], dtype=float32),\n",
       " 'dynamic_obj_start_sensor': array([-0.949154  ,  0.39413512, -2.7448356 ], dtype=float32)}"
      ]
     },
     "execution_count": 33,
     "metadata": {},
     "output_type": "execute_result"
    }
   ],
   "source": []
  },
  {
   "cell_type": "code",
   "execution_count": null,
   "metadata": {},
   "outputs": [
    {
     "data": {
      "text/plain": [
       "{'episode_id': '1573', 'scene_id': 'data/replica_cad/configs/scenes/v3_sc2_staging_14.scene_instance.json', 'scene_dataset_config': 'data/replica_cad/replicaCAD.scene_dataset_config.json', 'additional_obj_config_paths': ['data/objects/ycb/'], 'start_position': [0, 0, 0], 'start_rotation': [0, 0, 0, 1], 'info': {'object_labels': {'008_pudding_box_:0000': 'hab2|0'}}, '_shortest_path_cache': None, 'ao_states': {'fridge_:0000': {'2': 0.0}, 'kitchen_counter_:0000': {'1': 0.0, '2': 0.0, '3': 0.0, '4': 0.0, '5': 0.0, '6': 0.0, '7': 0.5}}, 'rigid_objs': [['008_pudding_box.object_config.json', [[0.95316, 0.01236, -0.3022, -1.77234], [-0.00576, 0.99972, 0.02274, 0.5072], [0.3024, -0.01993, 0.95297, 0.32506], [0.0, 0.0, 0.0, 1.0]]], ['003_cracker_box.object_config.json', [[-0.68914, 0.01388, -0.7245, -2.19572], [0.0231, 0.99973, -0.00282, 0.4936], [0.72426, -0.01868, -0.68927, 1.2256], [0.0, 0.0, 0.0, 1.0]]], ['024_bowl.object_config.json', [[-0.85755, 0.00164, 0.5144, -2.35596], [0.0014, 1.0, -0.00084, 0.88716], [-0.5144, -0.0, -0.85755, 0.64311], [0.0, 0.0, 0.0, 1.0]]]], 'targets': {'008_pudding_box_:0000': [[-0.33542, 0.0, -0.94207, -2.36682], [0.0, 1.0, 0.0, 0.87854], [0.94207, 0.0, -0.33542, 0.35001], [0.0, 0.0, 0.0, 1.0]]}, 'markers': [{'name': 'cab_push_point_7', 'type': 'articulated_object', 'params': {'offset': [0.3, 0.0, 0], 'link': 'drawer1_top', 'object': 'kitchen_counter_:0000'}}, {'name': 'cab_push_point_6', 'type': 'articulated_object', 'params': {'offset': [0.3, 0.0, 0], 'link': 'drawer2_top', 'object': 'kitchen_counter_:0000'}}, {'name': 'cab_push_point_5', 'type': 'articulated_object', 'params': {'offset': [0.3, 0.0, 0], 'link': 'drawer3', 'object': 'kitchen_counter_:0000'}}, {'name': 'cab_push_point_4', 'type': 'articulated_object', 'params': {'offset': [0.3, 0.0, 0], 'link': 'drawer4', 'object': 'kitchen_counter_:0000'}}, {'name': 'fridge_push_point', 'type': 'articulated_object', 'params': {'offset': [0.1, -0.62, 0.2], 'link': 'top_door', 'object': 'fridge_:0000'}}], 'target_receptacles': [['kitchen_counter_:0000', 7]], 'goal_receptacles': [['kitchen_counter_:0000', 0]], 'name_to_receptacle': {}}"
      ]
     },
     "execution_count": 105,
     "metadata": {},
     "output_type": "execute_result"
    }
   ],
   "source": [
    "env.sim.ep_info"
   ]
  },
  {
   "cell_type": "code",
   "execution_count": null,
   "metadata": {},
   "outputs": [],
   "source": []
  },
  {
   "cell_type": "markdown",
   "metadata": {},
   "source": []
  },
  {
   "cell_type": "code",
   "execution_count": null,
   "metadata": {},
   "outputs": [
    {
     "data": {
      "text/plain": [
       "{'robot_head_rgb': <habitat_sim.simulator.Sensor at 0x7fa0d1e2df10>,\n",
       " 'robot_head_depth': <habitat_sim.simulator.Sensor at 0x7fa0d1e2dcd0>,\n",
       " 'robot_arm_rgb': <habitat_sim.simulator.Sensor at 0x7fa0d1a6da90>,\n",
       " 'robot_arm_depth': <habitat_sim.simulator.Sensor at 0x7fa10a742490>}"
      ]
     },
     "execution_count": 13,
     "metadata": {},
     "output_type": "execute_result"
    }
   ],
   "source": [
    "# Why no cambiaron?\n",
    "env._sim._sensors"
   ]
  },
  {
   "cell_type": "code",
   "execution_count": null,
   "metadata": {},
   "outputs": [
    {
     "data": {
      "text/plain": [
       "['005_tomato_soup_can.object_config.json', [[-0.89562, 0.00583, 0.44479, 0.52849], [0.00491, 0.99998, -0.00322, 0.53788], [-0.4448, -0.0007, -0.89563, 5.72775], [0.0, 0.0, 0.0, 1.0]]]"
      ]
     },
     "execution_count": 57,
     "metadata": {},
     "output_type": "execute_result"
    }
   ],
   "source": [
    "env._sim.ep_info['rigid_objs'][2]"
   ]
  },
  {
   "cell_type": "code",
   "execution_count": null,
   "metadata": {},
   "outputs": [
    {
     "data": {
      "text/plain": [
       "{'ELECTRON_RUN_AS_NODE': '1',\n",
       " 'USER': 'sergioarnaud',\n",
       " 'MallocNanoZone': '0',\n",
       " '__CFBundleIdentifier': 'com.microsoft.VSCode',\n",
       " 'COMMAND_MODE': 'unix2003',\n",
       " 'LOGNAME': 'sergioarnaud',\n",
       " 'PATH': '/Users/sergioarnaud/miniconda/envs/habitat-llm/bin:/Users/sergioarnaud/miniconda/condabin:/usr/local/bin:/usr/bin:/bin:/usr/sbin:/sbin:/Library/CPE/bin/FBSKSAgent.app/Contents/MacOS:/opt/facebook/bin:/opt/facebook/bin/biggrep:/opt/facebook/nix/bin:/opt/facebook/ops/scripts/chef:/opt/homebrew/bin:/usr/local/munki:/opt/facebook/hg/bin',\n",
       " 'SSH_AUTH_SOCK': '/private/tmp/com.apple.launchd.2fHRiAjf61/Listeners',\n",
       " 'SHELL': '/bin/zsh',\n",
       " 'HOME': '/Users/sergioarnaud',\n",
       " '__CF_USER_TEXT_ENCODING': '0x1F5:0x0:0x0',\n",
       " 'TMPDIR': '/var/folders/6j/6qtm9y3d4c3086pvl_w3ps200000gn/T/',\n",
       " 'XPC_SERVICE_NAME': '0',\n",
       " 'XPC_FLAGS': '0x0',\n",
       " 'ORIGINAL_XDG_CURRENT_DESKTOP': 'undefined',\n",
       " 'VSCODE_CWD': '/',\n",
       " 'VSCODE_NLS_CONFIG': '{\"locale\":\"en-us\",\"availableLanguages\":{},\"_languagePackSupport\":true}',\n",
       " 'VSCODE_CODE_CACHE_PATH': '/Users/sergioarnaud/Library/Application Support/Code/CachedData/6261075646f055b99068d3688932416f2346dd3b',\n",
       " 'VSCODE_IPC_HOOK': '/Users/sergioarnaud/Library/Application Support/Code/1.73.1-main.sock',\n",
       " 'VSCODE_PID': '27761',\n",
       " 'SHLVL': '1',\n",
       " 'PWD': '/',\n",
       " 'OLDPWD': '/',\n",
       " '_': '/Users/sergioarnaud/miniconda/envs/habitat-llm/bin/python',\n",
       " 'VSCODE_AMD_ENTRYPOINT': 'vs/workbench/api/node/extensionHostProcess',\n",
       " 'VSCODE_HANDLES_UNCAUGHT_ERRORS': 'true',\n",
       " 'APPLICATION_INSIGHTS_NO_DIAGNOSTIC_CHANNEL': 'true',\n",
       " 'PYTHONPATH': '/Users/sergioarnaud/.vscode/extensions/ms-toolsai.jupyter-2022.9.1303220346/pythonFiles:/Users/sergioarnaud/.vscode/extensions/ms-toolsai.jupyter-2022.9.1303220346/pythonFiles/lib/python',\n",
       " 'PYTHONUNBUFFERED': '1',\n",
       " 'PYTHONIOENCODING': 'utf-8',\n",
       " 'SDKROOT': '/Library/Developer/CommandLineTools/SDKs/MacOSX.sdk',\n",
       " 'CPATH': '/usr/local/include',\n",
       " 'LIBRARY_PATH': '/usr/local/lib',\n",
       " 'LC_CTYPE': 'UTF-8',\n",
       " 'JUPYTER_PATH': '/Users/sergioarnaud/.vscode/extensions/ms-toolsai.jupyter-2022.9.1303220346/temp/jupyter',\n",
       " 'CONDA_SHLVL': '1',\n",
       " 'CONDA_PROMPT_MODIFIER': '(habitat-llm) ',\n",
       " 'CONDA_EXE': '/Users/sergioarnaud/miniconda/bin/conda',\n",
       " '_CE_CONDA': '',\n",
       " 'CONDA_PREFIX': '/Users/sergioarnaud/miniconda/envs/habitat-llm',\n",
       " '_CE_M': '',\n",
       " 'CONDA_PYTHON_EXE': '/Users/sergioarnaud/miniconda/bin/python',\n",
       " 'CONDA_DEFAULT_ENV': 'habitat-llm',\n",
       " 'JPY_PARENT_PID': '4383',\n",
       " 'PYDEVD_USE_FRAME_EVAL': 'NO',\n",
       " 'TERM': 'xterm-color',\n",
       " 'CLICOLOR': '1',\n",
       " 'PAGER': 'cat',\n",
       " 'GIT_PAGER': 'cat',\n",
       " 'MPLBACKEND': 'module://matplotlib_inline.backend_inline',\n",
       " 'PYDEVD_IPYTHON_COMPATIBLE_DEBUGGING': '1',\n",
       " 'LD_LIBRARY_PATH': '/Users/sergioarnaud/miniconda/envs/habitat-llm/lib/python3.7/site-packages/cv2/../../lib:',\n",
       " 'PYGAME_HIDE_SUPPORT_PROMPT': 'hide',\n",
       " 'KMP_DUPLICATE_LIB_OK': 'True'}"
      ]
     },
     "execution_count": 8,
     "metadata": {},
     "output_type": "execute_result"
    }
   ],
   "source": [
    "env"
   ]
  },
  {
   "cell_type": "code",
   "execution_count": null,
   "metadata": {},
   "outputs": [],
   "source": []
  }
 ],
 "metadata": {
  "kernelspec": {
   "display_name": "Python 3.7.15 ('habitat-llm')",
   "language": "python",
   "name": "python3"
  },
  "language_info": {
   "codemirror_mode": {
    "name": "ipython",
    "version": 3
   },
   "file_extension": ".py",
   "mimetype": "text/x-python",
   "name": "python",
   "nbconvert_exporter": "python",
   "pygments_lexer": "ipython3",
   "version": "3.7.15"
  },
  "orig_nbformat": 4,
  "vscode": {
   "interpreter": {
    "hash": "35b836eff723a512fdf52ed4bea54a4410cc5233002f2e728f57b411f4c3b102"
   }
  }
 },
 "nbformat": 4,
 "nbformat_minor": 2
}
