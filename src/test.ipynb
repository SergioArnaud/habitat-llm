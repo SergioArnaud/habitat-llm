{
 "cells": [
  {
   "cell_type": "code",
   "execution_count": 26,
   "metadata": {},
   "outputs": [],
   "source": [
    "from setup_experiment import setup\n",
    "import habitat\n",
    "from sensors import register_sensors"
   ]
  },
  {
   "cell_type": "code",
   "execution_count": 27,
   "metadata": {},
   "outputs": [
    {
     "name": "stderr",
     "output_type": "stream",
     "text": [
      "/Users/sergioarnaud/Documents/habitat-llm/src/setup_experiment.py:51: UserWarning: \n",
      "The version_base parameter is not specified.\n",
      "Please specify a compatability version level, or None.\n",
      "Will assume defaults for version 1.1\n",
      "  with initialize(config_path=\"conf\"):\n"
     ]
    },
    {
     "name": "stdout",
     "output_type": "stream",
     "text": [
      "Using a generated random seed 49868164\n"
     ]
    },
    {
     "name": "stderr",
     "output_type": "stream",
     "text": [
      "ln: data/data: File exists\n"
     ]
    }
   ],
   "source": [
    "conf = setup()\n",
    "register_sensors(conf)"
   ]
  },
  {
   "cell_type": "code",
   "execution_count": 34,
   "metadata": {},
   "outputs": [],
   "source": [
    "import torch\n",
    "g = torch.zeros(5)"
   ]
  },
  {
   "cell_type": "code",
   "execution_count": 36,
   "metadata": {},
   "outputs": [],
   "source": [
    "g[3] = 8"
   ]
  },
  {
   "cell_type": "code",
   "execution_count": 37,
   "metadata": {},
   "outputs": [
    {
     "data": {
      "text/plain": [
       "tensor([False, False, False,  True, False])"
      ]
     },
     "execution_count": 37,
     "metadata": {},
     "output_type": "execute_result"
    }
   ],
   "source": [
    "g > 3"
   ]
  },
  {
   "cell_type": "code",
   "execution_count": 40,
   "metadata": {},
   "outputs": [],
   "source": [
    "from skills.nav import NavSkillPolicy"
   ]
  },
  {
   "cell_type": "code",
   "execution_count": 41,
   "metadata": {},
   "outputs": [],
   "source": [
    "skill = cls = eval('NavSkillPolicy')"
   ]
  },
  {
   "cell_type": "code",
   "execution_count": 46,
   "metadata": {},
   "outputs": [],
   "source": [
    "from omegaconf import OmegaConf\n",
    "config = {\n",
    "    'max_skill_steps' : 100,\n",
    "    'force_end_on_timeout' : True,\n",
    "    'skill_name': 'NavSkillPolicy',\n",
    "    'load_ckpt_file': 'trains/nav.pth',\n",
    "    'name' : 'PointNavResNetPolicy'\n",
    "}\n",
    "\n",
    "# Omegaconf from dict\n",
    "config = OmegaConf.create(config)\n",
    "\n",
    "observation_space = env.observation_space\n",
    "action_space = env.action_space"
   ]
  },
  {
   "cell_type": "code",
   "execution_count": 47,
   "metadata": {},
   "outputs": [
    {
     "ename": "FileNotFoundError",
     "evalue": "Could not load neural network weights for skill.",
     "output_type": "error",
     "traceback": [
      "\u001b[0;31m---------------------------------------------------------------------------\u001b[0m",
      "\u001b[0;31mFileNotFoundError\u001b[0m                         Traceback (most recent call last)",
      "\u001b[0;32m~/Documents/habitat-llm/habitat-lab/habitat-baselines/habitat_baselines/rl/hrl/skills/nn_skill.py\u001b[0m in \u001b[0;36mfrom_config\u001b[0;34m(cls, config, observation_space, action_space, batch_size, full_config)\u001b[0m\n\u001b[1;32m    156\u001b[0m                 ckpt_dict = torch.load(\n\u001b[0;32m--> 157\u001b[0;31m                     \u001b[0mconfig\u001b[0m\u001b[0;34m.\u001b[0m\u001b[0mload_ckpt_file\u001b[0m\u001b[0;34m,\u001b[0m \u001b[0mmap_location\u001b[0m\u001b[0;34m=\u001b[0m\u001b[0;34m\"cpu\"\u001b[0m\u001b[0;34m\u001b[0m\u001b[0;34m\u001b[0m\u001b[0m\n\u001b[0m\u001b[1;32m    158\u001b[0m                 )\n",
      "\u001b[0;32m~/miniconda/envs/habitat-llm/lib/python3.7/site-packages/torch/serialization.py\u001b[0m in \u001b[0;36mload\u001b[0;34m(f, map_location, pickle_module, weights_only, **pickle_load_args)\u001b[0m\n\u001b[1;32m    770\u001b[0m \u001b[0;34m\u001b[0m\u001b[0m\n\u001b[0;32m--> 771\u001b[0;31m     \u001b[0;32mwith\u001b[0m \u001b[0m_open_file_like\u001b[0m\u001b[0;34m(\u001b[0m\u001b[0mf\u001b[0m\u001b[0;34m,\u001b[0m \u001b[0;34m'rb'\u001b[0m\u001b[0;34m)\u001b[0m \u001b[0;32mas\u001b[0m \u001b[0mopened_file\u001b[0m\u001b[0;34m:\u001b[0m\u001b[0;34m\u001b[0m\u001b[0;34m\u001b[0m\u001b[0m\n\u001b[0m\u001b[1;32m    772\u001b[0m         \u001b[0;32mif\u001b[0m \u001b[0m_is_zipfile\u001b[0m\u001b[0;34m(\u001b[0m\u001b[0mopened_file\u001b[0m\u001b[0;34m)\u001b[0m\u001b[0;34m:\u001b[0m\u001b[0;34m\u001b[0m\u001b[0;34m\u001b[0m\u001b[0m\n",
      "\u001b[0;32m~/miniconda/envs/habitat-llm/lib/python3.7/site-packages/torch/serialization.py\u001b[0m in \u001b[0;36m_open_file_like\u001b[0;34m(name_or_buffer, mode)\u001b[0m\n\u001b[1;32m    269\u001b[0m     \u001b[0;32mif\u001b[0m \u001b[0m_is_path\u001b[0m\u001b[0;34m(\u001b[0m\u001b[0mname_or_buffer\u001b[0m\u001b[0;34m)\u001b[0m\u001b[0;34m:\u001b[0m\u001b[0;34m\u001b[0m\u001b[0;34m\u001b[0m\u001b[0m\n\u001b[0;32m--> 270\u001b[0;31m         \u001b[0;32mreturn\u001b[0m \u001b[0m_open_file\u001b[0m\u001b[0;34m(\u001b[0m\u001b[0mname_or_buffer\u001b[0m\u001b[0;34m,\u001b[0m \u001b[0mmode\u001b[0m\u001b[0;34m)\u001b[0m\u001b[0;34m\u001b[0m\u001b[0;34m\u001b[0m\u001b[0m\n\u001b[0m\u001b[1;32m    271\u001b[0m     \u001b[0;32melse\u001b[0m\u001b[0;34m:\u001b[0m\u001b[0;34m\u001b[0m\u001b[0;34m\u001b[0m\u001b[0m\n",
      "\u001b[0;32m~/miniconda/envs/habitat-llm/lib/python3.7/site-packages/torch/serialization.py\u001b[0m in \u001b[0;36m__init__\u001b[0;34m(self, name, mode)\u001b[0m\n\u001b[1;32m    250\u001b[0m     \u001b[0;32mdef\u001b[0m \u001b[0m__init__\u001b[0m\u001b[0;34m(\u001b[0m\u001b[0mself\u001b[0m\u001b[0;34m,\u001b[0m \u001b[0mname\u001b[0m\u001b[0;34m,\u001b[0m \u001b[0mmode\u001b[0m\u001b[0;34m)\u001b[0m\u001b[0;34m:\u001b[0m\u001b[0;34m\u001b[0m\u001b[0;34m\u001b[0m\u001b[0m\n\u001b[0;32m--> 251\u001b[0;31m         \u001b[0msuper\u001b[0m\u001b[0;34m(\u001b[0m\u001b[0m_open_file\u001b[0m\u001b[0;34m,\u001b[0m \u001b[0mself\u001b[0m\u001b[0;34m)\u001b[0m\u001b[0;34m.\u001b[0m\u001b[0m__init__\u001b[0m\u001b[0;34m(\u001b[0m\u001b[0mopen\u001b[0m\u001b[0;34m(\u001b[0m\u001b[0mname\u001b[0m\u001b[0;34m,\u001b[0m \u001b[0mmode\u001b[0m\u001b[0;34m)\u001b[0m\u001b[0;34m)\u001b[0m\u001b[0;34m\u001b[0m\u001b[0;34m\u001b[0m\u001b[0m\n\u001b[0m\u001b[1;32m    252\u001b[0m \u001b[0;34m\u001b[0m\u001b[0m\n",
      "\u001b[0;31mFileNotFoundError\u001b[0m: [Errno 2] No such file or directory: 'trains/nav.pth'",
      "\nThe above exception was the direct cause of the following exception:\n",
      "\u001b[0;31mFileNotFoundError\u001b[0m                         Traceback (most recent call last)",
      "\u001b[0;32m/var/folders/6j/6qtm9y3d4c3086pvl_w3ps200000gn/T/ipykernel_63449/2290788269.py\u001b[0m in \u001b[0;36m<module>\u001b[0;34m\u001b[0m\n\u001b[1;32m      4\u001b[0m     \u001b[0maction_space\u001b[0m\u001b[0;34m,\u001b[0m\u001b[0;34m\u001b[0m\u001b[0;34m\u001b[0m\u001b[0m\n\u001b[1;32m      5\u001b[0m     \u001b[0;36m1\u001b[0m\u001b[0;34m,\u001b[0m\u001b[0;34m\u001b[0m\u001b[0;34m\u001b[0m\u001b[0m\n\u001b[0;32m----> 6\u001b[0;31m     \u001b[0mconfig\u001b[0m\u001b[0;34m,\u001b[0m\u001b[0;34m\u001b[0m\u001b[0;34m\u001b[0m\u001b[0m\n\u001b[0m\u001b[1;32m      7\u001b[0m )\n",
      "\u001b[0;32m~/Documents/habitat-llm/habitat-lab/habitat-baselines/habitat_baselines/rl/hrl/skills/nn_skill.py\u001b[0m in \u001b[0;36mfrom_config\u001b[0;34m(cls, config, observation_space, action_space, batch_size, full_config)\u001b[0m\n\u001b[1;32m    160\u001b[0m                 raise FileNotFoundError(\n\u001b[1;32m    161\u001b[0m                     \u001b[0;34m\"Could not load neural network weights for skill.\"\u001b[0m\u001b[0;34m\u001b[0m\u001b[0;34m\u001b[0m\u001b[0m\n\u001b[0;32m--> 162\u001b[0;31m                 ) from e\n\u001b[0m\u001b[1;32m    163\u001b[0m \u001b[0;34m\u001b[0m\u001b[0m\n\u001b[1;32m    164\u001b[0m             \u001b[0mpolicy_cfg\u001b[0m \u001b[0;34m=\u001b[0m \u001b[0mckpt_dict\u001b[0m\u001b[0;34m[\u001b[0m\u001b[0;34m\"config\"\u001b[0m\u001b[0;34m]\u001b[0m\u001b[0;34m\u001b[0m\u001b[0;34m\u001b[0m\u001b[0m\n",
      "\u001b[0;31mFileNotFoundError\u001b[0m: Could not load neural network weights for skill."
     ]
    }
   ],
   "source": [
    "skill_policy = cls.from_config(\n",
    "    config,\n",
    "    observation_space,\n",
    "    action_space,\n",
    "    1,\n",
    "    config,\n",
    ")"
   ]
  },
  {
   "cell_type": "code",
   "execution_count": 28,
   "metadata": {},
   "outputs": [
    {
     "name": "stderr",
     "output_type": "stream",
     "text": [
      "2022-12-15 13:29:49,981 Initializing dataset RearrangeDataset-v0\n",
      "2022-12-15 13:29:52,365 initializing sim RearrangeSim-v0\n",
      "2022-12-15 13:29:55,658 Initializing task RearrangeEmptyTask-v0\n"
     ]
    }
   ],
   "source": [
    "env = habitat.Env(config=conf)"
   ]
  },
  {
   "cell_type": "code",
   "execution_count": 44,
   "metadata": {},
   "outputs": [
    {
     "data": {
      "text/plain": [
       "ActionSpace(arm_action:Dict(arm_action:Box(-1.0, 1.0, (7,), float32), grip_action:Box(-1.0, 1.0, (1,), float32)), base_velocity:Dict(base_vel:Box(-20.0, 20.0, (2,), float32)), empty:Dict(empty_action:Box(-1.0, 1.0, (1,), float32)))"
      ]
     },
     "execution_count": 44,
     "metadata": {},
     "output_type": "execute_result"
    }
   ],
   "source": [
    "env.action_space"
   ]
  },
  {
   "cell_type": "code",
   "execution_count": 45,
   "metadata": {},
   "outputs": [
    {
     "data": {
      "text/plain": [
       "Dict(dynamic_goal_to_agent_gps_compass:Box(-3.4028235e+38, 3.4028235e+38, (2,), float32), dynamic_obj_start_sensor:Box(-3.4028235e+38, 3.4028235e+38, (3,), float32), joint:Box(-3.4028235e+38, 3.4028235e+38, (7,), float32), robot_arm_depth:Box(0.0, 1.0, (128, 128, 1), float32), robot_arm_rgb:Box(0, 255, (128, 128, 3), uint8), robot_head_depth:Box(0.0, 1.0, (128, 128, 1), float32), robot_head_rgb:Box(0, 255, (128, 128, 3), uint8))"
      ]
     },
     "execution_count": 45,
     "metadata": {},
     "output_type": "execute_result"
    }
   ],
   "source": [
    "env.observation_space"
   ]
  },
  {
   "cell_type": "code",
   "execution_count": null,
   "metadata": {},
   "outputs": [],
   "source": []
  },
  {
   "cell_type": "code",
   "execution_count": null,
   "metadata": {},
   "outputs": [
    {
     "data": {
      "text/plain": [
       "skills.nav.NavSkillPolicy"
      ]
     },
     "metadata": {},
     "output_type": "display_data"
    }
   ],
   "source": [
    "skill"
   ]
  },
  {
   "cell_type": "code",
   "execution_count": null,
   "metadata": {},
   "outputs": [],
   "source": []
  },
  {
   "cell_type": "code",
   "execution_count": 30,
   "metadata": {},
   "outputs": [
    {
     "name": "stdout",
     "output_type": "stream",
     "text": [
      "b3Warning[examples/Importers/ImportURDFDemo/BulletUrdfImporter.cpp,467]:\n",
      "Bad inertia tensor properties, setting inertia to zero for link: r_gripper_finger_link\n",
      "b3Warning[examples/Importers/ImportURDFDemo/BulletUrdfImporter.cpp,467]:\n",
      "Bad inertia tensor properties, setting inertia to zero for link: l_gripper_finger_link\n",
      "b3Warning[examples/Importers/ImportURDFDemo/BulletUrdfImporter.cpp,467]:\n",
      "Bad inertia tensor properties, setting inertia to zero for link: r_gripper_finger_link\n",
      "b3Warning[examples/Importers/ImportURDFDemo/BulletUrdfImporter.cpp,467]:\n",
      "Bad inertia tensor properties, setting inertia to zero for link: l_gripper_finger_link\n"
     ]
    },
    {
     "ename": "AttributeError",
     "evalue": "'RearrangeSim' object has no attribute 'dynamic_target'",
     "output_type": "error",
     "traceback": [
      "\u001b[0;31m---------------------------------------------------------------------------\u001b[0m",
      "\u001b[0;31mAttributeError\u001b[0m                            Traceback (most recent call last)",
      "\u001b[0;32m/var/folders/6j/6qtm9y3d4c3086pvl_w3ps200000gn/T/ipykernel_63449/572437473.py\u001b[0m in \u001b[0;36m<module>\u001b[0;34m\u001b[0m\n\u001b[0;32m----> 1\u001b[0;31m \u001b[0mobs\u001b[0m \u001b[0;34m=\u001b[0m \u001b[0menv\u001b[0m\u001b[0;34m.\u001b[0m\u001b[0mreset\u001b[0m\u001b[0;34m(\u001b[0m\u001b[0;34m)\u001b[0m\u001b[0;34m\u001b[0m\u001b[0;34m\u001b[0m\u001b[0m\n\u001b[0m",
      "\u001b[0;32m~/Documents/habitat-llm/habitat-lab/habitat-lab/habitat/core/env.py\u001b[0m in \u001b[0;36mreset\u001b[0;34m(self)\u001b[0m\n\u001b[1;32m    260\u001b[0m         \u001b[0mself\u001b[0m\u001b[0;34m.\u001b[0m\u001b[0mreconfigure\u001b[0m\u001b[0;34m(\u001b[0m\u001b[0mself\u001b[0m\u001b[0;34m.\u001b[0m\u001b[0m_config\u001b[0m\u001b[0;34m)\u001b[0m\u001b[0;34m\u001b[0m\u001b[0;34m\u001b[0m\u001b[0m\n\u001b[1;32m    261\u001b[0m \u001b[0;34m\u001b[0m\u001b[0m\n\u001b[0;32m--> 262\u001b[0;31m         \u001b[0mobservations\u001b[0m \u001b[0;34m=\u001b[0m \u001b[0mself\u001b[0m\u001b[0;34m.\u001b[0m\u001b[0mtask\u001b[0m\u001b[0;34m.\u001b[0m\u001b[0mreset\u001b[0m\u001b[0;34m(\u001b[0m\u001b[0mepisode\u001b[0m\u001b[0;34m=\u001b[0m\u001b[0mself\u001b[0m\u001b[0;34m.\u001b[0m\u001b[0mcurrent_episode\u001b[0m\u001b[0;34m)\u001b[0m\u001b[0;34m\u001b[0m\u001b[0;34m\u001b[0m\u001b[0m\n\u001b[0m\u001b[1;32m    263\u001b[0m         self._task.measurements.reset_measures(\n\u001b[1;32m    264\u001b[0m             \u001b[0mepisode\u001b[0m\u001b[0;34m=\u001b[0m\u001b[0mself\u001b[0m\u001b[0;34m.\u001b[0m\u001b[0mcurrent_episode\u001b[0m\u001b[0;34m,\u001b[0m\u001b[0;34m\u001b[0m\u001b[0;34m\u001b[0m\u001b[0m\n",
      "\u001b[0;32m~/Documents/habitat-llm/habitat-lab/habitat-lab/habitat/tasks/rearrange/rearrange_task.py\u001b[0m in \u001b[0;36mreset\u001b[0;34m(self, episode, fetch_observations)\u001b[0m\n\u001b[1;32m    180\u001b[0m         \u001b[0;32mif\u001b[0m \u001b[0mfetch_observations\u001b[0m\u001b[0;34m:\u001b[0m\u001b[0;34m\u001b[0m\u001b[0;34m\u001b[0m\u001b[0m\n\u001b[1;32m    181\u001b[0m             \u001b[0mself\u001b[0m\u001b[0;34m.\u001b[0m\u001b[0m_sim\u001b[0m\u001b[0;34m.\u001b[0m\u001b[0mmaybe_update_robot\u001b[0m\u001b[0;34m(\u001b[0m\u001b[0;34m)\u001b[0m\u001b[0;34m\u001b[0m\u001b[0;34m\u001b[0m\u001b[0m\n\u001b[0;32m--> 182\u001b[0;31m             \u001b[0;32mreturn\u001b[0m \u001b[0mself\u001b[0m\u001b[0;34m.\u001b[0m\u001b[0m_get_observations\u001b[0m\u001b[0;34m(\u001b[0m\u001b[0mepisode\u001b[0m\u001b[0;34m)\u001b[0m\u001b[0;34m\u001b[0m\u001b[0;34m\u001b[0m\u001b[0m\n\u001b[0m\u001b[1;32m    183\u001b[0m         \u001b[0;32melse\u001b[0m\u001b[0;34m:\u001b[0m\u001b[0;34m\u001b[0m\u001b[0;34m\u001b[0m\u001b[0m\n\u001b[1;32m    184\u001b[0m             \u001b[0;32mreturn\u001b[0m \u001b[0;32mNone\u001b[0m\u001b[0;34m\u001b[0m\u001b[0;34m\u001b[0m\u001b[0m\n",
      "\u001b[0;32m~/Documents/habitat-llm/habitat-lab/habitat-lab/habitat/tasks/rearrange/rearrange_task.py\u001b[0m in \u001b[0;36m_get_observations\u001b[0;34m(self, episode)\u001b[0m\n\u001b[1;32m    189\u001b[0m \u001b[0;34m\u001b[0m\u001b[0m\n\u001b[1;32m    190\u001b[0m         task_obs = self.sensor_suite.get_observations(\n\u001b[0;32m--> 191\u001b[0;31m             \u001b[0mobservations\u001b[0m\u001b[0;34m=\u001b[0m\u001b[0mobs\u001b[0m\u001b[0;34m,\u001b[0m \u001b[0mepisode\u001b[0m\u001b[0;34m=\u001b[0m\u001b[0mepisode\u001b[0m\u001b[0;34m,\u001b[0m \u001b[0mtask\u001b[0m\u001b[0;34m=\u001b[0m\u001b[0mself\u001b[0m\u001b[0;34m\u001b[0m\u001b[0;34m\u001b[0m\u001b[0m\n\u001b[0m\u001b[1;32m    192\u001b[0m         )\n\u001b[1;32m    193\u001b[0m         \u001b[0mobs\u001b[0m\u001b[0;34m.\u001b[0m\u001b[0mupdate\u001b[0m\u001b[0;34m(\u001b[0m\u001b[0mtask_obs\u001b[0m\u001b[0;34m)\u001b[0m\u001b[0;34m\u001b[0m\u001b[0;34m\u001b[0m\u001b[0m\n",
      "\u001b[0;32m~/Documents/habitat-llm/habitat-lab/habitat-lab/habitat/core/simulator.py\u001b[0m in \u001b[0;36mget_observations\u001b[0;34m(self, *args, **kwargs)\u001b[0m\n\u001b[1;32m    227\u001b[0m         \u001b[0;34m:\u001b[0m\u001b[0mref\u001b[0m\u001b[0;34m:\u001b[0m\u001b[0;31m`\u001b[0m\u001b[0mObservations\u001b[0m\u001b[0;31m`\u001b[0m\u001b[0;34m.\u001b[0m\u001b[0;34m\u001b[0m\u001b[0;34m\u001b[0m\u001b[0m\n\u001b[1;32m    228\u001b[0m         \"\"\"\n\u001b[0;32m--> 229\u001b[0;31m         \u001b[0;32mreturn\u001b[0m \u001b[0mObservations\u001b[0m\u001b[0;34m(\u001b[0m\u001b[0mself\u001b[0m\u001b[0;34m.\u001b[0m\u001b[0msensors\u001b[0m\u001b[0;34m,\u001b[0m \u001b[0;34m*\u001b[0m\u001b[0margs\u001b[0m\u001b[0;34m,\u001b[0m \u001b[0;34m**\u001b[0m\u001b[0mkwargs\u001b[0m\u001b[0;34m)\u001b[0m\u001b[0;34m\u001b[0m\u001b[0;34m\u001b[0m\u001b[0m\n\u001b[0m\u001b[1;32m    230\u001b[0m \u001b[0;34m\u001b[0m\u001b[0m\n\u001b[1;32m    231\u001b[0m \u001b[0;34m\u001b[0m\u001b[0m\n",
      "\u001b[0;32m~/Documents/habitat-llm/habitat-lab/habitat-lab/habitat/core/simulator.py\u001b[0m in \u001b[0;36m__init__\u001b[0;34m(self, sensors, *args, **kwargs)\u001b[0m\n\u001b[1;32m    123\u001b[0m         data = [\n\u001b[1;32m    124\u001b[0m             \u001b[0;34m(\u001b[0m\u001b[0muuid\u001b[0m\u001b[0;34m,\u001b[0m \u001b[0msensor\u001b[0m\u001b[0;34m.\u001b[0m\u001b[0mget_observation\u001b[0m\u001b[0;34m(\u001b[0m\u001b[0;34m*\u001b[0m\u001b[0margs\u001b[0m\u001b[0;34m,\u001b[0m \u001b[0;34m**\u001b[0m\u001b[0mkwargs\u001b[0m\u001b[0;34m)\u001b[0m\u001b[0;34m)\u001b[0m\u001b[0;34m\u001b[0m\u001b[0;34m\u001b[0m\u001b[0m\n\u001b[0;32m--> 125\u001b[0;31m             \u001b[0;32mfor\u001b[0m \u001b[0muuid\u001b[0m\u001b[0;34m,\u001b[0m \u001b[0msensor\u001b[0m \u001b[0;32min\u001b[0m \u001b[0msensors\u001b[0m\u001b[0;34m.\u001b[0m\u001b[0mitems\u001b[0m\u001b[0;34m(\u001b[0m\u001b[0;34m)\u001b[0m\u001b[0;34m\u001b[0m\u001b[0;34m\u001b[0m\u001b[0m\n\u001b[0m\u001b[1;32m    126\u001b[0m         ]\n\u001b[1;32m    127\u001b[0m         \u001b[0msuper\u001b[0m\u001b[0;34m(\u001b[0m\u001b[0;34m)\u001b[0m\u001b[0;34m.\u001b[0m\u001b[0m__init__\u001b[0m\u001b[0;34m(\u001b[0m\u001b[0mdata\u001b[0m\u001b[0;34m)\u001b[0m\u001b[0;34m\u001b[0m\u001b[0;34m\u001b[0m\u001b[0m\n",
      "\u001b[0;32m~/Documents/habitat-llm/habitat-lab/habitat-lab/habitat/core/simulator.py\u001b[0m in \u001b[0;36m<listcomp>\u001b[0;34m(.0)\u001b[0m\n\u001b[1;32m    123\u001b[0m         data = [\n\u001b[1;32m    124\u001b[0m             \u001b[0;34m(\u001b[0m\u001b[0muuid\u001b[0m\u001b[0;34m,\u001b[0m \u001b[0msensor\u001b[0m\u001b[0;34m.\u001b[0m\u001b[0mget_observation\u001b[0m\u001b[0;34m(\u001b[0m\u001b[0;34m*\u001b[0m\u001b[0margs\u001b[0m\u001b[0;34m,\u001b[0m \u001b[0;34m**\u001b[0m\u001b[0mkwargs\u001b[0m\u001b[0;34m)\u001b[0m\u001b[0;34m)\u001b[0m\u001b[0;34m\u001b[0m\u001b[0;34m\u001b[0m\u001b[0m\n\u001b[0;32m--> 125\u001b[0;31m             \u001b[0;32mfor\u001b[0m \u001b[0muuid\u001b[0m\u001b[0;34m,\u001b[0m \u001b[0msensor\u001b[0m \u001b[0;32min\u001b[0m \u001b[0msensors\u001b[0m\u001b[0;34m.\u001b[0m\u001b[0mitems\u001b[0m\u001b[0;34m(\u001b[0m\u001b[0;34m)\u001b[0m\u001b[0;34m\u001b[0m\u001b[0;34m\u001b[0m\u001b[0m\n\u001b[0m\u001b[1;32m    126\u001b[0m         ]\n\u001b[1;32m    127\u001b[0m         \u001b[0msuper\u001b[0m\u001b[0;34m(\u001b[0m\u001b[0;34m)\u001b[0m\u001b[0;34m.\u001b[0m\u001b[0m__init__\u001b[0m\u001b[0;34m(\u001b[0m\u001b[0mdata\u001b[0m\u001b[0;34m)\u001b[0m\u001b[0;34m\u001b[0m\u001b[0;34m\u001b[0m\u001b[0m\n",
      "\u001b[0;32m~/Documents/habitat-llm/src/sensors.py\u001b[0m in \u001b[0;36mget_observation\u001b[0;34m(self, task, *args, **kwargs)\u001b[0m\n\u001b[1;32m     46\u001b[0m \u001b[0;34m\u001b[0m\u001b[0m\n\u001b[1;32m     47\u001b[0m     \u001b[0;32mdef\u001b[0m \u001b[0mget_observation\u001b[0m\u001b[0;34m(\u001b[0m\u001b[0mself\u001b[0m\u001b[0;34m,\u001b[0m \u001b[0mtask\u001b[0m\u001b[0;34m,\u001b[0m \u001b[0;34m*\u001b[0m\u001b[0margs\u001b[0m\u001b[0;34m,\u001b[0m \u001b[0;34m**\u001b[0m\u001b[0mkwargs\u001b[0m\u001b[0;34m)\u001b[0m\u001b[0;34m:\u001b[0m\u001b[0;34m\u001b[0m\u001b[0;34m\u001b[0m\u001b[0m\n\u001b[0;32m---> 48\u001b[0;31m         \u001b[0mtarget\u001b[0m \u001b[0;34m=\u001b[0m \u001b[0mself\u001b[0m\u001b[0;34m.\u001b[0m\u001b[0m_sim\u001b[0m\u001b[0;34m.\u001b[0m\u001b[0mdynamic_target\u001b[0m\u001b[0;34m\u001b[0m\u001b[0;34m\u001b[0m\u001b[0m\n\u001b[0m\u001b[1;32m     49\u001b[0m         \u001b[0;31m#target = task.nav_goal_pos\u001b[0m\u001b[0;34m\u001b[0m\u001b[0;34m\u001b[0m\u001b[0;34m\u001b[0m\u001b[0m\n\u001b[1;32m     50\u001b[0m         \u001b[0mtransform\u001b[0m \u001b[0;34m=\u001b[0m \u001b[0mself\u001b[0m\u001b[0;34m.\u001b[0m\u001b[0m_sim\u001b[0m\u001b[0;34m.\u001b[0m\u001b[0mget_robot_data\u001b[0m\u001b[0;34m(\u001b[0m\u001b[0mself\u001b[0m\u001b[0;34m.\u001b[0m\u001b[0mrobot_id\u001b[0m\u001b[0;34m)\u001b[0m\u001b[0;34m.\u001b[0m\u001b[0mrobot\u001b[0m\u001b[0;34m.\u001b[0m\u001b[0mbase_transformation\u001b[0m\u001b[0;34m\u001b[0m\u001b[0;34m\u001b[0m\u001b[0m\n",
      "\u001b[0;31mAttributeError\u001b[0m: 'RearrangeSim' object has no attribute 'dynamic_target'"
     ]
    }
   ],
   "source": [
    "obs = env.reset()"
   ]
  },
  {
   "cell_type": "code",
   "execution_count": 31,
   "metadata": {},
   "outputs": [],
   "source": [
    "handles_cache = {}\n",
    "object_handles = []\n",
    "for filename, transform in env._sim.ep_info[\"rigid_objs\"]:\n",
    "    target_handle = filename.split('.')[0]\n",
    "    if target_handle not in handles_cache:\n",
    "        handles_cache[target_handle] = 0\n",
    "    object_handles.append(f'{target_handle}_:{str(handles_cache[target_handle]).zfill(4)}')\n",
    "    handles_cache[target_handle] += 1\n",
    "\n",
    "def get_pos_by_name(t_handle):\n",
    "    rom = env.sim.get_rigid_object_manager()\n",
    "    obj_id = rom.get_object_by_handle(t_handle).object_id\n",
    "    index = env.sim.scene_obj_ids.index(obj_id)\n",
    "    scene_pos = env.sim.get_scene_pos()\n",
    "    pos = scene_pos[index]\n",
    "    return pos"
   ]
  },
  {
   "cell_type": "code",
   "execution_count": 32,
   "metadata": {},
   "outputs": [],
   "source": [
    "env.sim.dynamic_target = get_pos_by_name(object_handles[0])"
   ]
  },
  {
   "cell_type": "code",
   "execution_count": 33,
   "metadata": {},
   "outputs": [
    {
     "data": {
      "text/plain": [
       "{'robot_head_rgb': array([[[231, 229, 227],\n",
       "         [231, 230, 228],\n",
       "         [232, 231, 228],\n",
       "         ...,\n",
       "         [ 23, 138, 209],\n",
       "         [ 25, 140, 211],\n",
       "         [ 27, 141, 212]],\n",
       " \n",
       "        [[231, 228, 225],\n",
       "         [232, 230, 227],\n",
       "         [232, 231, 228],\n",
       "         ...,\n",
       "         [ 23, 132, 201],\n",
       "         [ 26, 134, 201],\n",
       "         [ 23, 133, 202]],\n",
       " \n",
       "        [[231, 228, 226],\n",
       "         [232, 229, 227],\n",
       "         [232, 232, 230],\n",
       "         ...,\n",
       "         [ 23, 128, 193],\n",
       "         [ 23, 131, 198],\n",
       "         [ 21, 124, 188]],\n",
       " \n",
       "        ...,\n",
       " \n",
       "        [[112,  97,  60],\n",
       "         [111,  96,  57],\n",
       "         [108,  92,  53],\n",
       "         ...,\n",
       "         [ 77,  81,  88],\n",
       "         [ 78,  81,  88],\n",
       "         [ 78,  81,  88]],\n",
       " \n",
       "        [[110,  95,  56],\n",
       "         [105,  90,  50],\n",
       "         [107,  91,  51],\n",
       "         ...,\n",
       "         [ 78,  81,  88],\n",
       "         [ 78,  81,  88],\n",
       "         [ 78,  81,  88]],\n",
       " \n",
       "        [[106,  90,  51],\n",
       "         [106,  90,  50],\n",
       "         [108,  91,  52],\n",
       "         ...,\n",
       "         [ 78,  81,  88],\n",
       "         [ 77,  81,  88],\n",
       "         [ 78,  81,  88]]], dtype=uint8),\n",
       " 'robot_head_depth': array([[[0.20717935],\n",
       "         [0.20908222],\n",
       "         [0.2110177 ],\n",
       "         ...,\n",
       "         [0.02362373],\n",
       "         [0.02346284],\n",
       "         [0.02336156]],\n",
       " \n",
       "        [[0.20757154],\n",
       "         [0.20948164],\n",
       "         [0.21142456],\n",
       "         ...,\n",
       "         [0.02365801],\n",
       "         [0.02352076],\n",
       "         [0.02334375]],\n",
       " \n",
       "        [[0.20796521],\n",
       "         [0.20988259],\n",
       "         [0.21183297],\n",
       "         ...,\n",
       "         [0.02370862],\n",
       "         [0.0236014 ],\n",
       "         [0.02341317]],\n",
       " \n",
       "        ...,\n",
       " \n",
       "        [[0.10580228],\n",
       "         [0.10580228],\n",
       "         [0.10580228],\n",
       "         ...,\n",
       "         [0.10499712],\n",
       "         [0.10499712],\n",
       "         [0.10499712]],\n",
       " \n",
       "        [[0.10460107],\n",
       "         [0.10460107],\n",
       "         [0.10460107],\n",
       "         ...,\n",
       "         [0.10380503],\n",
       "         [0.10380503],\n",
       "         [0.10380503]],\n",
       " \n",
       "        [[0.10342747],\n",
       "         [0.10342747],\n",
       "         [0.10342747],\n",
       "         ...,\n",
       "         [0.10264035],\n",
       "         [0.10264035],\n",
       "         [0.10263971]]], dtype=float32),\n",
       " 'robot_arm_rgb': array([[[ 77,  80,  87],\n",
       "         [ 78,  81,  88],\n",
       "         [ 78,  82,  89],\n",
       "         ...,\n",
       "         [132, 110,  61],\n",
       "         [131, 109,  60],\n",
       "         [130, 108,  60]],\n",
       " \n",
       "        [[ 77,  80,  87],\n",
       "         [ 77,  80,  87],\n",
       "         [ 78,  81,  88],\n",
       "         ...,\n",
       "         [130, 108,  59],\n",
       "         [131, 109,  60],\n",
       "         [130, 108,  59]],\n",
       " \n",
       "        [[ 77,  80,  87],\n",
       "         [ 77,  80,  87],\n",
       "         [ 77,  81,  88],\n",
       "         ...,\n",
       "         [131, 109,  60],\n",
       "         [132, 110,  61],\n",
       "         [129, 108,  59]],\n",
       " \n",
       "        ...,\n",
       " \n",
       "        [[ 23,  23,  23],\n",
       "         [ 23,  23,  22],\n",
       "         [ 22,  22,  22],\n",
       "         ...,\n",
       "         [255, 255, 245],\n",
       "         [255, 255, 247],\n",
       "         [255, 255, 250]],\n",
       " \n",
       "        [[ 23,  23,  22],\n",
       "         [ 22,  22,  22],\n",
       "         [ 20,  19,  19],\n",
       "         ...,\n",
       "         [255, 255, 252],\n",
       "         [255, 255, 252],\n",
       "         [255, 255, 250]],\n",
       " \n",
       "        [[ 23,  22,  22],\n",
       "         [ 17,  17,  17],\n",
       "         [ 10,   9,   9],\n",
       "         ...,\n",
       "         [255, 255, 255],\n",
       "         [255, 255, 255],\n",
       "         [255, 255, 255]]], dtype=uint8),\n",
       " 'robot_arm_depth': array([[[0.09136417],\n",
       "         [0.09156112],\n",
       "         [0.09175892],\n",
       "         ...,\n",
       "         [0.12596013],\n",
       "         [0.12633191],\n",
       "         [0.12670687]],\n",
       " \n",
       "        [[0.09231125],\n",
       "         [0.09251231],\n",
       "         [0.09271476],\n",
       "         ...,\n",
       "         [0.1277537 ],\n",
       "         [0.1281362 ],\n",
       "         [0.12852098]],\n",
       " \n",
       "        [[0.09327869],\n",
       "         [0.09348399],\n",
       "         [0.09369019],\n",
       "         ...,\n",
       "         [0.12959912],\n",
       "         [0.12999275],\n",
       "         [0.13038877]],\n",
       " \n",
       "        ...,\n",
       " \n",
       "        [[0.3838867 ],\n",
       "         [0.3898182 ],\n",
       "         [0.39593583],\n",
       "         ...,\n",
       "         [0.22133753],\n",
       "         [0.22047946],\n",
       "         [0.21962515]],\n",
       " \n",
       "        [[0.3828967 ],\n",
       "         [0.38879737],\n",
       "         [0.39488277],\n",
       "         ...,\n",
       "         [0.21729548],\n",
       "         [0.21646842],\n",
       "         [0.21564487]],\n",
       " \n",
       "        [[0.3819205 ],\n",
       "         [0.38779086],\n",
       "         [0.39384454],\n",
       "         ...,\n",
       "         [0.21339843],\n",
       "         [0.21260071],\n",
       "         [0.21180625]]], dtype=float32),\n",
       " 'joint': array([-0.5631264 , -0.998043  ,  0.23101287,  0.7306637 ,  0.02129877,\n",
       "         1.3593793 ,  0.09080271], dtype=float32),\n",
       " 'dynamic_goal_to_agent_gps_compass': array([ 2.1474106, -2.4638846], dtype=float32),\n",
       " 'dynamic_obj_start_sensor': array([-0.949154  ,  0.39413512, -2.7448356 ], dtype=float32)}"
      ]
     },
     "execution_count": 33,
     "metadata": {},
     "output_type": "execute_result"
    }
   ],
   "source": [
    "obs = env.reset()\n",
    "obs"
   ]
  },
  {
   "cell_type": "code",
   "execution_count": null,
   "metadata": {},
   "outputs": [],
   "source": []
  },
  {
   "cell_type": "code",
   "execution_count": null,
   "metadata": {},
   "outputs": [],
   "source": []
  },
  {
   "cell_type": "markdown",
   "metadata": {},
   "source": []
  },
  {
   "cell_type": "code",
   "execution_count": 13,
   "metadata": {},
   "outputs": [
    {
     "data": {
      "text/plain": [
       "{'robot_head_rgb': <habitat_sim.simulator.Sensor at 0x7fa0d1e2df10>,\n",
       " 'robot_head_depth': <habitat_sim.simulator.Sensor at 0x7fa0d1e2dcd0>,\n",
       " 'robot_arm_rgb': <habitat_sim.simulator.Sensor at 0x7fa0d1a6da90>,\n",
       " 'robot_arm_depth': <habitat_sim.simulator.Sensor at 0x7fa10a742490>}"
      ]
     },
     "execution_count": 13,
     "metadata": {},
     "output_type": "execute_result"
    }
   ],
   "source": [
    "# Why no cambiaron?\n",
    "env._sim._sensors"
   ]
  },
  {
   "cell_type": "code",
   "execution_count": 57,
   "metadata": {},
   "outputs": [
    {
     "data": {
      "text/plain": [
       "['005_tomato_soup_can.object_config.json', [[-0.89562, 0.00583, 0.44479, 0.52849], [0.00491, 0.99998, -0.00322, 0.53788], [-0.4448, -0.0007, -0.89563, 5.72775], [0.0, 0.0, 0.0, 1.0]]]"
      ]
     },
     "execution_count": 57,
     "metadata": {},
     "output_type": "execute_result"
    }
   ],
   "source": [
    "env._sim.ep_info['rigid_objs'][2]"
   ]
  },
  {
   "cell_type": "code",
   "execution_count": 8,
   "metadata": {},
   "outputs": [
    {
     "data": {
      "text/plain": [
       "{'ELECTRON_RUN_AS_NODE': '1',\n",
       " 'USER': 'sergioarnaud',\n",
       " 'MallocNanoZone': '0',\n",
       " '__CFBundleIdentifier': 'com.microsoft.VSCode',\n",
       " 'COMMAND_MODE': 'unix2003',\n",
       " 'LOGNAME': 'sergioarnaud',\n",
       " 'PATH': '/Users/sergioarnaud/miniconda/envs/habitat-llm/bin:/Users/sergioarnaud/miniconda/condabin:/usr/local/bin:/usr/bin:/bin:/usr/sbin:/sbin:/Library/CPE/bin/FBSKSAgent.app/Contents/MacOS:/opt/facebook/bin:/opt/facebook/bin/biggrep:/opt/facebook/nix/bin:/opt/facebook/ops/scripts/chef:/opt/homebrew/bin:/usr/local/munki:/opt/facebook/hg/bin',\n",
       " 'SSH_AUTH_SOCK': '/private/tmp/com.apple.launchd.2fHRiAjf61/Listeners',\n",
       " 'SHELL': '/bin/zsh',\n",
       " 'HOME': '/Users/sergioarnaud',\n",
       " '__CF_USER_TEXT_ENCODING': '0x1F5:0x0:0x0',\n",
       " 'TMPDIR': '/var/folders/6j/6qtm9y3d4c3086pvl_w3ps200000gn/T/',\n",
       " 'XPC_SERVICE_NAME': '0',\n",
       " 'XPC_FLAGS': '0x0',\n",
       " 'ORIGINAL_XDG_CURRENT_DESKTOP': 'undefined',\n",
       " 'VSCODE_CWD': '/',\n",
       " 'VSCODE_NLS_CONFIG': '{\"locale\":\"en-us\",\"availableLanguages\":{},\"_languagePackSupport\":true}',\n",
       " 'VSCODE_CODE_CACHE_PATH': '/Users/sergioarnaud/Library/Application Support/Code/CachedData/6261075646f055b99068d3688932416f2346dd3b',\n",
       " 'VSCODE_IPC_HOOK': '/Users/sergioarnaud/Library/Application Support/Code/1.73.1-main.sock',\n",
       " 'VSCODE_PID': '27761',\n",
       " 'SHLVL': '1',\n",
       " 'PWD': '/',\n",
       " 'OLDPWD': '/',\n",
       " '_': '/Users/sergioarnaud/miniconda/envs/habitat-llm/bin/python',\n",
       " 'VSCODE_AMD_ENTRYPOINT': 'vs/workbench/api/node/extensionHostProcess',\n",
       " 'VSCODE_HANDLES_UNCAUGHT_ERRORS': 'true',\n",
       " 'APPLICATION_INSIGHTS_NO_DIAGNOSTIC_CHANNEL': 'true',\n",
       " 'PYTHONPATH': '/Users/sergioarnaud/.vscode/extensions/ms-toolsai.jupyter-2022.9.1303220346/pythonFiles:/Users/sergioarnaud/.vscode/extensions/ms-toolsai.jupyter-2022.9.1303220346/pythonFiles/lib/python',\n",
       " 'PYTHONUNBUFFERED': '1',\n",
       " 'PYTHONIOENCODING': 'utf-8',\n",
       " 'SDKROOT': '/Library/Developer/CommandLineTools/SDKs/MacOSX.sdk',\n",
       " 'CPATH': '/usr/local/include',\n",
       " 'LIBRARY_PATH': '/usr/local/lib',\n",
       " 'LC_CTYPE': 'UTF-8',\n",
       " 'JUPYTER_PATH': '/Users/sergioarnaud/.vscode/extensions/ms-toolsai.jupyter-2022.9.1303220346/temp/jupyter',\n",
       " 'CONDA_SHLVL': '1',\n",
       " 'CONDA_PROMPT_MODIFIER': '(habitat-llm) ',\n",
       " 'CONDA_EXE': '/Users/sergioarnaud/miniconda/bin/conda',\n",
       " '_CE_CONDA': '',\n",
       " 'CONDA_PREFIX': '/Users/sergioarnaud/miniconda/envs/habitat-llm',\n",
       " '_CE_M': '',\n",
       " 'CONDA_PYTHON_EXE': '/Users/sergioarnaud/miniconda/bin/python',\n",
       " 'CONDA_DEFAULT_ENV': 'habitat-llm',\n",
       " 'JPY_PARENT_PID': '4383',\n",
       " 'PYDEVD_USE_FRAME_EVAL': 'NO',\n",
       " 'TERM': 'xterm-color',\n",
       " 'CLICOLOR': '1',\n",
       " 'PAGER': 'cat',\n",
       " 'GIT_PAGER': 'cat',\n",
       " 'MPLBACKEND': 'module://matplotlib_inline.backend_inline',\n",
       " 'PYDEVD_IPYTHON_COMPATIBLE_DEBUGGING': '1',\n",
       " 'LD_LIBRARY_PATH': '/Users/sergioarnaud/miniconda/envs/habitat-llm/lib/python3.7/site-packages/cv2/../../lib:',\n",
       " 'PYGAME_HIDE_SUPPORT_PROMPT': 'hide',\n",
       " 'KMP_DUPLICATE_LIB_OK': 'True'}"
      ]
     },
     "execution_count": 8,
     "metadata": {},
     "output_type": "execute_result"
    }
   ],
   "source": [
    "env"
   ]
  },
  {
   "cell_type": "code",
   "execution_count": null,
   "metadata": {},
   "outputs": [],
   "source": []
  }
 ],
 "metadata": {
  "kernelspec": {
   "display_name": "Python 3.7.15 ('habitat-llm')",
   "language": "python",
   "name": "python3"
  },
  "language_info": {
   "codemirror_mode": {
    "name": "ipython",
    "version": 3
   },
   "file_extension": ".py",
   "mimetype": "text/x-python",
   "name": "python",
   "nbconvert_exporter": "python",
   "pygments_lexer": "ipython3",
   "version": "3.7.15"
  },
  "orig_nbformat": 4,
  "vscode": {
   "interpreter": {
    "hash": "4e2db3c0de42d583c68d63103c473981a0893513f447216b275ab329a1f15bde"
   }
  }
 },
 "nbformat": 4,
 "nbformat_minor": 2
}
